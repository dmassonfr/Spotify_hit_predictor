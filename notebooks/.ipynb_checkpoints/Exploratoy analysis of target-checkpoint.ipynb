{
 "cells": [
  {
   "cell_type": "markdown",
   "id": "7119dd26",
   "metadata": {},
   "source": [
    "# Kaggle data preprocessing and tuning"
   ]
  },
  {
   "cell_type": "markdown",
   "id": "f1deba97",
   "metadata": {},
   "source": [
    "## Imports"
   ]
  },
  {
   "cell_type": "code",
   "execution_count": 1,
   "id": "660f17ee",
   "metadata": {},
   "outputs": [],
   "source": [
    "import pandas as pd\n",
    "import numpy as np\n",
    "import matplotlib.pyplot as plt\n",
    "import seaborn as sns"
   ]
  },
  {
   "cell_type": "code",
   "execution_count": 2,
   "id": "00cd298b",
   "metadata": {},
   "outputs": [],
   "source": [
    "tracks= pd.read_csv('~/code/dmassonfr/Spotify_hit_predictor/raw_data/tracks.csv')"
   ]
  },
  {
   "cell_type": "code",
   "execution_count": 3,
   "id": "ebfbce9a",
   "metadata": {},
   "outputs": [],
   "source": [
    "artists= pd.read_csv('~/code/dmassonfr/Spotify_hit_predictor/raw_data/artists.csv')"
   ]
  },
  {
   "cell_type": "code",
   "execution_count": 4,
   "id": "15039bf2",
   "metadata": {},
   "outputs": [
    {
     "data": {
      "text/html": [
       "<div>\n",
       "<style scoped>\n",
       "    .dataframe tbody tr th:only-of-type {\n",
       "        vertical-align: middle;\n",
       "    }\n",
       "\n",
       "    .dataframe tbody tr th {\n",
       "        vertical-align: top;\n",
       "    }\n",
       "\n",
       "    .dataframe thead th {\n",
       "        text-align: right;\n",
       "    }\n",
       "</style>\n",
       "<table border=\"1\" class=\"dataframe\">\n",
       "  <thead>\n",
       "    <tr style=\"text-align: right;\">\n",
       "      <th></th>\n",
       "      <th>id</th>\n",
       "      <th>name</th>\n",
       "      <th>popularity</th>\n",
       "      <th>duration_ms</th>\n",
       "      <th>explicit</th>\n",
       "      <th>artists</th>\n",
       "      <th>id_artists</th>\n",
       "      <th>release_date</th>\n",
       "      <th>danceability</th>\n",
       "      <th>energy</th>\n",
       "      <th>key</th>\n",
       "      <th>loudness</th>\n",
       "      <th>mode</th>\n",
       "      <th>speechiness</th>\n",
       "      <th>acousticness</th>\n",
       "      <th>instrumentalness</th>\n",
       "      <th>liveness</th>\n",
       "      <th>valence</th>\n",
       "      <th>tempo</th>\n",
       "      <th>time_signature</th>\n",
       "    </tr>\n",
       "  </thead>\n",
       "  <tbody>\n",
       "    <tr>\n",
       "      <th>586671</th>\n",
       "      <td>5Ocn6dZ3BJFPWh4ylwFXtn</td>\n",
       "      <td>Mar de Emociones</td>\n",
       "      <td>38</td>\n",
       "      <td>214360</td>\n",
       "      <td>0</td>\n",
       "      <td>['Afrosound']</td>\n",
       "      <td>['0i4Qda0k4nf7jnNHmSNpYv']</td>\n",
       "      <td>2015-07-01</td>\n",
       "      <td>0.686</td>\n",
       "      <td>0.723</td>\n",
       "      <td>6</td>\n",
       "      <td>-7.067</td>\n",
       "      <td>1</td>\n",
       "      <td>0.0363</td>\n",
       "      <td>0.105</td>\n",
       "      <td>0.0</td>\n",
       "      <td>0.264</td>\n",
       "      <td>0.975</td>\n",
       "      <td>112.204</td>\n",
       "      <td>4</td>\n",
       "    </tr>\n",
       "  </tbody>\n",
       "</table>\n",
       "</div>"
      ],
      "text/plain": [
       "                            id              name  popularity  duration_ms  \\\n",
       "586671  5Ocn6dZ3BJFPWh4ylwFXtn  Mar de Emociones          38       214360   \n",
       "\n",
       "        explicit        artists                  id_artists release_date  \\\n",
       "586671         0  ['Afrosound']  ['0i4Qda0k4nf7jnNHmSNpYv']   2015-07-01   \n",
       "\n",
       "        danceability  energy  key  loudness  mode  speechiness  acousticness  \\\n",
       "586671         0.686   0.723    6    -7.067     1       0.0363         0.105   \n",
       "\n",
       "        instrumentalness  liveness  valence    tempo  time_signature  \n",
       "586671               0.0     0.264    0.975  112.204               4  "
      ]
     },
     "execution_count": 4,
     "metadata": {},
     "output_type": "execute_result"
    }
   ],
   "source": [
    "tracks.tail(1)"
   ]
  },
  {
   "cell_type": "code",
   "execution_count": 5,
   "id": "75c7467f",
   "metadata": {},
   "outputs": [],
   "source": [
    "tracks['release_year'] = [int(i.split('-')[0]) for i in tracks['release_date']]"
   ]
  },
  {
   "cell_type": "code",
   "execution_count": 6,
   "id": "2c36f9ce",
   "metadata": {},
   "outputs": [],
   "source": [
    "tracks = tracks[tracks['speechiness']<0.66]"
   ]
  },
  {
   "cell_type": "markdown",
   "id": "b281ed82",
   "metadata": {},
   "source": [
    "# Datasets Analysis"
   ]
  },
  {
   "cell_type": "code",
   "execution_count": 7,
   "id": "464011d2",
   "metadata": {},
   "outputs": [],
   "source": [
    "popularity= tracks['popularity'].value_counts()"
   ]
  },
  {
   "cell_type": "code",
   "execution_count": 8,
   "id": "9d7d76f8",
   "metadata": {},
   "outputs": [],
   "source": [
    "sns.histplot(tracks['popularity']);"
   ]
  },
  {
   "cell_type": "code",
   "execution_count": 9,
   "id": "7a275d15",
   "metadata": {},
   "outputs": [],
   "source": [
    "years= tracks['release_year'].value_counts()"
   ]
  },
  {
   "cell_type": "code",
   "execution_count": 10,
   "id": "03e4643c",
   "metadata": {
    "scrolled": true
   },
   "outputs": [],
   "source": [
    "sns.histplot(tracks['release_year']);"
   ]
  },
  {
   "cell_type": "markdown",
   "id": "05c5fde0",
   "metadata": {},
   "source": [
    "## Analysing by Periods"
   ]
  },
  {
   "cell_type": "markdown",
   "id": "bc30b020",
   "metadata": {},
   "source": [
    "### Dividing the data by 10 periods"
   ]
  },
  {
   "cell_type": "code",
   "execution_count": 11,
   "id": "187b600a",
   "metadata": {},
   "outputs": [],
   "source": [
    "round(len(tracks)/10)"
   ]
  },
  {
   "cell_type": "code",
   "execution_count": 12,
   "id": "dde38a9c",
   "metadata": {},
   "outputs": [],
   "source": [
    "tracks= tracks.sort_values(by= 'release_year')"
   ]
  },
  {
   "cell_type": "code",
   "execution_count": 13,
   "id": "0c706193",
   "metadata": {},
   "outputs": [],
   "source": [
    "tracks.head()"
   ]
  },
  {
   "cell_type": "code",
   "execution_count": 14,
   "id": "48ded9d9",
   "metadata": {},
   "outputs": [],
   "source": [
    "# Splitting data into 10 samples\n",
    "tracks_1= tracks.iloc[:56406]\n",
    "tracks_2= tracks.iloc[56406:112812]\n",
    "tracks_3= tracks.iloc[112812:169218]\n",
    "tracks_4= tracks.iloc[169218:225624]\n",
    "tracks_5= tracks.iloc[225624:282030]\n",
    "tracks_6= tracks.iloc[282030:338436]\n",
    "tracks_7= tracks.iloc[338436:394842]\n",
    "tracks_8= tracks.iloc[394842:451248]\n",
    "tracks_9= tracks.iloc[451248:507654]\n",
    "tracks_10= tracks.iloc[507654:]"
   ]
  },
  {
   "cell_type": "code",
   "execution_count": 15,
   "id": "ebc3587f",
   "metadata": {},
   "outputs": [],
   "source": [
    "print(f' Percentage of popular tracks in 1s sample: {float(len(tracks_1[tracks_1[\"popularity\"]>25]) / float(len(tracks_1)))*100}%.')\n",
    "print(f' Percentage of popular tracks in 2nd sample: {float(len(tracks_2[tracks_2[\"popularity\"]>25]) / float(len(tracks_2)))*100}%.')\n",
    "print(f' Percentage of popular tracks in 3rd sample: {float(len(tracks_3[tracks_3[\"popularity\"]>25]) / float(len(tracks_3)))*100}%.')\n",
    "print(f' Percentage of popular tracks in 4th sample: {float(len(tracks_4[tracks_4[\"popularity\"]>25]) / float(len(tracks_4)))*100}%.')\n",
    "print(f' Percentage of popular tracks in 5th sample: {float(len(tracks_5[tracks_5[\"popularity\"]>25]) / float(len(tracks_5)))*100}%.')\n",
    "print(f' Percentage of popular tracks in 6th sample: {float(len(tracks_6[tracks_6[\"popularity\"]>25]) / float(len(tracks_6))*100)}%.')\n",
    "print(f' Percentage of popular tracks in 7th sample: {float(len(tracks_7[tracks_7[\"popularity\"]>25]) / float(len(tracks_7)))*100}%.')\n",
    "print(f' Percentage of popular tracks in 8th sample: {float(len(tracks_8[tracks_8[\"popularity\"]>25]) / float(len(tracks_8)))*100}%.')\n",
    "print(f' Percentage of popular tracks in 9th sample: {float(len(tracks_9[tracks_9[\"popularity\"]>25]) / float(len(tracks_9)))*100}%.')\n",
    "print(f' Percentage of popular tracks in 10th sample: {float(len(tracks_10[tracks_10[\"popularity\"]>25]) / float(len(tracks_10)))*100}%.')"
   ]
  },
  {
   "cell_type": "code",
   "execution_count": 16,
   "id": "6a1bfeba",
   "metadata": {},
   "outputs": [],
   "source": [
    "print(f' Percentage of popular tracks in 1s sample: {float(len(tracks_1[tracks_1[\"popularity\"]>50]) / float(len(tracks_1)))*100}%.')\n",
    "print(f' Percentage of popular tracks in 2nd sample: {float(len(tracks_2[tracks_2[\"popularity\"]>50]) / float(len(tracks_2)))*100}%.')\n",
    "print(f' Percentage of popular tracks in 3rd sample: {float(len(tracks_3[tracks_3[\"popularity\"]>50]) / float(len(tracks_3)))*100}%.')\n",
    "print(f' Percentage of popular tracks in 4th sample: {float(len(tracks_4[tracks_4[\"popularity\"]>50]) / float(len(tracks_4)))*100}%.')\n",
    "print(f' Percentage of popular tracks in 5th sample: {float(len(tracks_5[tracks_5[\"popularity\"]>50]) / float(len(tracks_5)))*100}%.')\n",
    "print(f' Percentage of popular tracks in 6th sample: {float(len(tracks_6[tracks_6[\"popularity\"]>50]) / float(len(tracks_6))*100)}%.')\n",
    "print(f' Percentage of popular tracks in 7th sample: {float(len(tracks_7[tracks_7[\"popularity\"]>50]) / float(len(tracks_7)))*100}%.')\n",
    "print(f' Percentage of popular tracks in 8th sample: {float(len(tracks_8[tracks_8[\"popularity\"]>50]) / float(len(tracks_8)))*100}%.')\n",
    "print(f' Percentage of popular tracks in 9th sample: {float(len(tracks_9[tracks_9[\"popularity\"]>50]) / float(len(tracks_9)))*100}%.')\n",
    "print(f' Percentage of popular tracks in 10th sample: {float(len(tracks_10[tracks_10[\"popularity\"]>50]) / float(len(tracks_10)))*100}%.')"
   ]
  },
  {
   "cell_type": "code",
   "execution_count": 17,
   "id": "865a0d86",
   "metadata": {},
   "outputs": [],
   "source": [
    "print(f' Percentage of popular tracks in 1s sample: {float(len(tracks_1[tracks_1[\"popularity\"]>75]) / float(len(tracks_1)))*100}%.')\n",
    "print(f' Percentage of popular tracks in 2nd sample: {float(len(tracks_2[tracks_2[\"popularity\"]>75]) / float(len(tracks_2)))*100}%.')\n",
    "print(f' Percentage of popular tracks in 3rd sample: {float(len(tracks_3[tracks_3[\"popularity\"]>75]) / float(len(tracks_3)))*100}%.')\n",
    "print(f' Percentage of popular tracks in 4th sample: {float(len(tracks_4[tracks_4[\"popularity\"]>75]) / float(len(tracks_4)))*100}%.')\n",
    "print(f' Percentage of popular tracks in 5th sample: {float(len(tracks_5[tracks_5[\"popularity\"]>75]) / float(len(tracks_5)))*100}%.')\n",
    "print(f' Percentage of popular tracks in 6th sample: {float(len(tracks_6[tracks_6[\"popularity\"]>75]) / float(len(tracks_6))*100)}%.')\n",
    "print(f' Percentage of popular tracks in 7th sample: {float(len(tracks_7[tracks_7[\"popularity\"]>75]) / float(len(tracks_7)))*100}%.')\n",
    "print(f' Percentage of popular tracks in 8th sample: {float(len(tracks_8[tracks_8[\"popularity\"]>75]) / float(len(tracks_8)))*100}%.')\n",
    "print(f' Percentage of popular tracks in 9th sample: {float(len(tracks_9[tracks_9[\"popularity\"]>75]) / float(len(tracks_9)))*100}%.')\n",
    "print(f' Percentage of popular tracks in 10th sample: {float(len(tracks_10[tracks_10[\"popularity\"]>75]) / float(len(tracks_10)))*100}%.')"
   ]
  },
  {
   "cell_type": "code",
   "execution_count": 18,
   "id": "7418e099",
   "metadata": {},
   "outputs": [],
   "source": [
    "#Listing the %'s of the different thresholds of the samples (over 25,50, 75 popularity)\n",
    "\n",
    "y=[[float(len(tracks_1[tracks_1[\"popularity\"]>25]) / float(len(tracks_1)))*100,\n",
    "float(len(tracks_2[tracks_2[\"popularity\"]>25]) / float(len(tracks_2)))*100,\n",
    "float(len(tracks_3[tracks_3[\"popularity\"]>25]) / float(len(tracks_3)))*100,\n",
    "float(len(tracks_4[tracks_4[\"popularity\"]>25]) / float(len(tracks_4)))*100,\n",
    "float(len(tracks_5[tracks_5[\"popularity\"]>25]) / float(len(tracks_5)))*100,\n",
    "float(len(tracks_6[tracks_6[\"popularity\"]>25]) / float(len(tracks_6)))*100,\n",
    "float(len(tracks_7[tracks_7[\"popularity\"]>25]) / float(len(tracks_7)))*100,\n",
    "float(len(tracks_8[tracks_8[\"popularity\"]>25]) / float(len(tracks_8)))*100,\n",
    "float(len(tracks_9[tracks_9[\"popularity\"]>25]) / float(len(tracks_9)))*100,\n",
    "float(len(tracks_10[tracks_10[\"popularity\"]>25]) / float(len(tracks_10)))*100],\n",
    "[float(len(tracks_1[tracks_1[\"popularity\"]>50]) / float(len(tracks_1)))*100,\n",
    "float(len(tracks_2[tracks_2[\"popularity\"]>50]) / float(len(tracks_2)))*100,\n",
    "float(len(tracks_3[tracks_3[\"popularity\"]>50]) / float(len(tracks_3)))*100,\n",
    "float(len(tracks_4[tracks_4[\"popularity\"]>50]) / float(len(tracks_4)))*100,\n",
    "float(len(tracks_5[tracks_5[\"popularity\"]>50]) / float(len(tracks_5)))*100,\n",
    "float(len(tracks_6[tracks_6[\"popularity\"]>50]) / float(len(tracks_6)))*100,\n",
    "float(len(tracks_7[tracks_7[\"popularity\"]>50]) / float(len(tracks_7)))*100,\n",
    "float(len(tracks_8[tracks_8[\"popularity\"]>50]) / float(len(tracks_8)))*100,\n",
    "float(len(tracks_9[tracks_9[\"popularity\"]>50]) / float(len(tracks_9)))*100,\n",
    "float(len(tracks_10[tracks_10[\"popularity\"]>50]) / float(len(tracks_10)))*100],\n",
    "[float(len(tracks_1[tracks_1[\"popularity\"]>75]) / float(len(tracks_1)))*100,\n",
    "float(len(tracks_2[tracks_2[\"popularity\"]>75]) / float(len(tracks_2)))*100,\n",
    "float(len(tracks_3[tracks_3[\"popularity\"]>75]) / float(len(tracks_3)))*100,\n",
    "float(len(tracks_4[tracks_4[\"popularity\"]>75]) / float(len(tracks_4)))*100,\n",
    "float(len(tracks_5[tracks_5[\"popularity\"]>75]) / float(len(tracks_5)))*100,\n",
    "float(len(tracks_6[tracks_6[\"popularity\"]>75]) / float(len(tracks_6)))*100,\n",
    "float(len(tracks_7[tracks_7[\"popularity\"]>75]) / float(len(tracks_7)))*100,\n",
    "float(len(tracks_8[tracks_8[\"popularity\"]>75]) / float(len(tracks_8)))*100,\n",
    "float(len(tracks_9[tracks_9[\"popularity\"]>75]) / float(len(tracks_9)))*100,\n",
    "float(len(tracks_10[tracks_10[\"popularity\"]>75]) / float(len(tracks_10)))*100]]"
   ]
  },
  {
   "cell_type": "code",
   "execution_count": null,
   "id": "c3766c7a",
   "metadata": {},
   "outputs": [],
   "source": [
    "# Using the sample number as X\n",
    "\n",
    "X=range(0,10)"
   ]
  },
  {
   "cell_type": "code",
   "execution_count": null,
   "id": "f3c589b4",
   "metadata": {},
   "outputs": [],
   "source": [
    "#Ploting the %'s of the thresholds\n",
    "\n",
    "plt.figure(figsize=(14,6))\n",
    "plt.xlabel('Sample Number')\n",
    "plt.ylabel('%')\n",
    "plt.plot(X,y[0],label = 'Popularity over 25')\n",
    "plt.plot(X,y[1],label = 'Popularity over 50')\n",
    "plt.plot(X,y[2],label = 'Popularity over 75')\n",
    "plt.legend()\n",
    "plt.show()"
   ]
  },
  {
   "cell_type": "code",
   "execution_count": null,
   "id": "9334f4d4",
   "metadata": {},
   "outputs": [],
   "source": [
    "#Checking the year of the last data point of the 8th sample\n",
    "\n",
    "tracks_8.tail(1)"
   ]
  },
  {
   "cell_type": "markdown",
   "id": "fe5dfc34",
   "metadata": {},
   "source": [
    "## Analysing popularity over last 10 years"
   ]
  },
  {
   "cell_type": "code",
   "execution_count": null,
   "id": "cec8da9e",
   "metadata": {},
   "outputs": [],
   "source": [
    "#Slicing the data for the last 10 years (2011-2021)\n",
    "\n",
    "tracks_2021=tracks[tracks['release_year']==2021]\n",
    "tracks_2020=tracks[tracks['release_year']==2020]\n",
    "tracks_2019=tracks[tracks['release_year']==2019]\n",
    "tracks_2018=tracks[tracks['release_year']==2018]\n",
    "tracks_2017=tracks[tracks['release_year']==2017]\n",
    "tracks_2016=tracks[tracks['release_year']==2016]\n",
    "tracks_2015=tracks[tracks['release_year']==2015]\n",
    "tracks_2014=tracks[tracks['release_year']==2014]\n",
    "tracks_2013=tracks[tracks['release_year']==2013]\n",
    "tracks_2012=tracks[tracks['release_year']==2012]\n",
    "tracks_2011=tracks[tracks['release_year']==2011]"
   ]
  },
  {
   "cell_type": "code",
   "execution_count": null,
   "id": "8f9218ba",
   "metadata": {},
   "outputs": [],
   "source": [
    "#Listing the %'s of the different thresholds of the 2011-2021 data points (over 25,50, 75 popularity)\n",
    "\n",
    "y_years=[[float(len(tracks_2021[tracks_2021['popularity']>75]) / float(len(tracks_2021)))*100,\n",
    "          float(len(tracks_2020[tracks_2020['popularity']>75]) / float(len(tracks_2020)))*100,\n",
    "          float(len(tracks_2019[tracks_2019['popularity']>75]) / float(len(tracks_2019)))*100,\n",
    "          float(len(tracks_2018[tracks_2018['popularity']>75]) / float(len(tracks_2018)))*100,\n",
    "          float(len(tracks_2017[tracks_2017['popularity']>75]) / float(len(tracks_2017)))*100,\n",
    "          float(len(tracks_2016[tracks_2016['popularity']>75]) / float(len(tracks_2016)))*100,\n",
    "          float(len(tracks_2015[tracks_2015['popularity']>75]) / float(len(tracks_2015)))*100,\n",
    "          float(len(tracks_2014[tracks_2014['popularity']>75]) / float(len(tracks_2014)))*100,\n",
    "          float(len(tracks_2013[tracks_2013['popularity']>75]) / float(len(tracks_2013)))*100,\n",
    "          float(len(tracks_2012[tracks_2012['popularity']>75]) / float(len(tracks_2012)))*100,\n",
    "          float(len(tracks_2011[tracks_2011['popularity']>75]) / float(len(tracks_2011)))*100],\n",
    "         [float(len(tracks_2021[tracks_2021['popularity']>50]) / float(len(tracks_2021)))*100,\n",
    "          float(len(tracks_2020[tracks_2020['popularity']>50]) / float(len(tracks_2020)))*100,\n",
    "          float(len(tracks_2019[tracks_2019['popularity']>50]) / float(len(tracks_2019)))*100,\n",
    "          float(len(tracks_2018[tracks_2018['popularity']>50]) / float(len(tracks_2018)))*100,\n",
    "          float(len(tracks_2017[tracks_2017['popularity']>50]) / float(len(tracks_2017)))*100,\n",
    "          float(len(tracks_2016[tracks_2016['popularity']>50]) / float(len(tracks_2016)))*100,\n",
    "          float(len(tracks_2015[tracks_2015['popularity']>50]) / float(len(tracks_2015)))*100,\n",
    "          float(len(tracks_2014[tracks_2014['popularity']>50]) / float(len(tracks_2014)))*100,\n",
    "          float(len(tracks_2013[tracks_2013['popularity']>50]) / float(len(tracks_2013)))*100,\n",
    "          float(len(tracks_2012[tracks_2012['popularity']>50]) / float(len(tracks_2012)))*100,\n",
    "          float(len(tracks_2011[tracks_2011['popularity']>50]) / float(len(tracks_2011)))*100],\n",
    "         [float(len(tracks_2021[tracks_2021['popularity']>25]) / float(len(tracks_2021)))*100,\n",
    "         float(len(tracks_2020[tracks_2020['popularity']>25]) / float(len(tracks_2020)))*100,\n",
    "         float(len(tracks_2019[tracks_2019['popularity']>25]) / float(len(tracks_2019)))*100,\n",
    "         float(len(tracks_2018[tracks_2018['popularity']>25]) / float(len(tracks_2018)))*100,\n",
    "         float(len(tracks_2017[tracks_2017['popularity']>25]) / float(len(tracks_2017)))*100,\n",
    "         float(len(tracks_2016[tracks_2016['popularity']>25]) / float(len(tracks_2016)))*100,\n",
    "         float(len(tracks_2015[tracks_2015['popularity']>25]) / float(len(tracks_2015)))*100,\n",
    "         float(len(tracks_2014[tracks_2014['popularity']>25]) / float(len(tracks_2014)))*100,\n",
    "         float(len(tracks_2013[tracks_2013['popularity']>25]) / float(len(tracks_2013)))*100,\n",
    "         float(len(tracks_2012[tracks_2012['popularity']>25]) / float(len(tracks_2012)))*100,\n",
    "         float(len(tracks_2011[tracks_2011['popularity']>25]) / float(len(tracks_2011)))*100]]"
   ]
  },
  {
   "cell_type": "code",
   "execution_count": null,
   "id": "0ec12d69",
   "metadata": {},
   "outputs": [],
   "source": [
    "X_years=[2021,2020,2019,2018,2017,2016,2015,2014,2013,2012,2011]"
   ]
  },
  {
   "cell_type": "code",
   "execution_count": null,
   "id": "f1514cfc",
   "metadata": {},
   "outputs": [],
   "source": [
    "plt.figure(figsize=(14,8))\n",
    "plt.xlabel('Track year of release')\n",
    "plt.ylabel('%')\n",
    "plt.plot(X_years,y_years[2],label = 'Popularity over 25')\n",
    "plt.plot(X_years,y_years[1],label = 'Popularity over 50')\n",
    "plt.plot(X_years,y_years[0],label = 'Popularity over 75')\n",
    "plt.legend()\n",
    "plt.show()"
   ]
  },
  {
   "cell_type": "code",
   "execution_count": null,
   "id": "29a91aed",
   "metadata": {},
   "outputs": [],
   "source": [
    "popular_count=[len(tracks_2021[tracks_2021['popularity']>75])/ float(len(tracks_2021))*100,\n",
    "len(tracks_2020[tracks_2020['popularity']>75])/ float(len(tracks_2021))*100,\n",
    "len(tracks_2019[tracks_2019['popularity']>75])/ float(len(tracks_2021))*100,\n",
    "len(tracks_2018[tracks_2018['popularity']>75])/ float(len(tracks_2021))*100,\n",
    "len(tracks_2017[tracks_2017['popularity']>75])/ float(len(tracks_2021))*100,\n",
    "len(tracks_2016[tracks_2016['popularity']>75])/ float(len(tracks_2021))*100,\n",
    "len(tracks_2015[tracks_2015['popularity']>75])/ float(len(tracks_2021))*100,\n",
    "len(tracks_2014[tracks_2014['popularity']>75])/ float(len(tracks_2021))*100,\n",
    "len(tracks_2013[tracks_2013['popularity']>75])/ float(len(tracks_2021))*100,\n",
    "len(tracks_2012[tracks_2012['popularity']>75])/ float(len(tracks_2021))*100,\n",
    "len(tracks_2011[tracks_2011['popularity']>75])/ float(len(tracks_2021))*100]"
   ]
  },
  {
   "cell_type": "code",
   "execution_count": null,
   "id": "61dd4d02",
   "metadata": {},
   "outputs": [],
   "source": [
    "plt.figure(figsize=(14,8))\n",
    "plt.xlabel('Track year of release')\n",
    "plt.ylabel('Number of tracks (%)')\n",
    "plt.bar(X_years,height=popular_count)\n",
    "plt.show()"
   ]
  },
  {
   "cell_type": "code",
   "execution_count": null,
   "id": "eb6e9f9c",
   "metadata": {},
   "outputs": [],
   "source": [
    "tracks_2021['popularity'].mean(),\n",
    "tracks_2020['popularity'].mean(),\n",
    "tracks_2019['popularity'].mean(),\n",
    "tracks_2018['popularity'].mean(),"
   ]
  },
  {
   "cell_type": "code",
   "execution_count": null,
   "id": "dd0cbacc",
   "metadata": {},
   "outputs": [],
   "source": []
  }
 ],
 "metadata": {
  "kernelspec": {
   "display_name": "Python 3 (ipykernel)",
   "language": "python",
   "name": "python3"
  },
  "language_info": {
   "codemirror_mode": {
    "name": "ipython",
    "version": 3
   },
   "file_extension": ".py",
   "mimetype": "text/x-python",
   "name": "python",
   "nbconvert_exporter": "python",
   "pygments_lexer": "ipython3",
   "version": "3.10.6"
  },
  "toc": {
   "base_numbering": 1,
   "nav_menu": {},
   "number_sections": true,
   "sideBar": true,
   "skip_h1_title": false,
   "title_cell": "Table of Contents",
   "title_sidebar": "Contents",
   "toc_cell": false,
   "toc_position": {},
   "toc_section_display": true,
   "toc_window_display": false
  },
  "varInspector": {
   "cols": {
    "lenName": 16,
    "lenType": 16,
    "lenVar": 40
   },
   "kernels_config": {
    "python": {
     "delete_cmd_postfix": "",
     "delete_cmd_prefix": "del ",
     "library": "var_list.py",
     "varRefreshCmd": "print(var_dic_list())"
    },
    "r": {
     "delete_cmd_postfix": ") ",
     "delete_cmd_prefix": "rm(",
     "library": "var_list.r",
     "varRefreshCmd": "cat(var_dic_list()) "
    }
   },
   "types_to_exclude": [
    "module",
    "function",
    "builtin_function_or_method",
    "instance",
    "_Feature"
   ],
   "window_display": false
  }
 },
 "nbformat": 4,
 "nbformat_minor": 5
}
