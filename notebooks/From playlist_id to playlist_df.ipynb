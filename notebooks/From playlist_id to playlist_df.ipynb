{
 "cells": [
  {
   "cell_type": "markdown",
   "id": "d3f32002",
   "metadata": {},
   "source": [
    "# Install"
   ]
  },
  {
   "cell_type": "code",
   "execution_count": 1,
   "id": "66841008",
   "metadata": {},
   "outputs": [
    {
     "name": "stdout",
     "output_type": "stream",
     "text": [
      "Requirement already satisfied: spotipy in /Users/david/.pyenv/versions/3.10.6/envs/lewagon/lib/python3.10/site-packages (2.22.1)\r\n",
      "Requirement already satisfied: six>=1.15.0 in /Users/david/.pyenv/versions/3.10.6/envs/lewagon/lib/python3.10/site-packages (from spotipy) (1.16.0)\r\n",
      "Requirement already satisfied: urllib3>=1.26.0 in /Users/david/.pyenv/versions/3.10.6/envs/lewagon/lib/python3.10/site-packages (from spotipy) (1.26.12)\r\n",
      "Requirement already satisfied: redis>=3.5.3 in /Users/david/.pyenv/versions/3.10.6/envs/lewagon/lib/python3.10/site-packages (from spotipy) (4.5.1)\r\n",
      "Requirement already satisfied: requests>=2.25.0 in /Users/david/.pyenv/versions/3.10.6/envs/lewagon/lib/python3.10/site-packages (from spotipy) (2.28.1)\r\n",
      "Requirement already satisfied: async-timeout>=4.0.2 in /Users/david/.pyenv/versions/3.10.6/envs/lewagon/lib/python3.10/site-packages (from redis>=3.5.3->spotipy) (4.0.2)\r\n",
      "Requirement already satisfied: idna<4,>=2.5 in /Users/david/.pyenv/versions/3.10.6/envs/lewagon/lib/python3.10/site-packages (from requests>=2.25.0->spotipy) (3.4)\r\n",
      "Requirement already satisfied: charset-normalizer<3,>=2 in /Users/david/.pyenv/versions/3.10.6/envs/lewagon/lib/python3.10/site-packages (from requests>=2.25.0->spotipy) (2.1.1)\r\n",
      "Requirement already satisfied: certifi>=2017.4.17 in /Users/david/.pyenv/versions/3.10.6/envs/lewagon/lib/python3.10/site-packages (from requests>=2.25.0->spotipy) (2022.9.24)\r\n"
     ]
    }
   ],
   "source": [
    "!pip install spotipy"
   ]
  },
  {
   "cell_type": "markdown",
   "id": "f6d95b31",
   "metadata": {},
   "source": [
    "# Imports"
   ]
  },
  {
   "cell_type": "code",
   "execution_count": 3,
   "id": "e2c79330",
   "metadata": {},
   "outputs": [],
   "source": [
    "import spotipy\n",
    "from spotipy.oauth2 import SpotifyClientCredentials\n",
    "from pprint import pprint\n",
    "import pandas as pd\n",
    "from __future__ import print_function\n",
    "import json\n",
    "import time\n",
    "import sys"
   ]
  },
  {
   "cell_type": "markdown",
   "id": "a035fe15",
   "metadata": {},
   "source": [
    "# Credentials from Spotify's API"
   ]
  },
  {
   "cell_type": "code",
   "execution_count": 9,
   "id": "41aff803",
   "metadata": {},
   "outputs": [],
   "source": [
    "client_id= CLIENT_ID\n",
    "client_secret= CLIENT_SECRET\n",
    "pl_id = 'spotify:playlist:5ABHKGoOzxkaa28ttQV9sE' # to be changed\n",
    "#top50_tracks_2022: 37i9dQZF1DX18jTM2l2fJY\n",
    "#top50_tracks_2021:\n",
    "#top50_tracks_2020: 37i9dQZF1DX7Jl5KP2eZaS\n",
    "#top100_tracks_2019: 37i9dQZF1DWVRSukIED0e9\n",
    "#top100_tracks_2018: 37i9dQZF1DXe2bobNYDtW8\n",
    "#top50_tracks_weekly: 37i9dQZEVXbNG2KDcFcKOF\n",
    "#top50_tracks_daily: 37i9dQZEVXbMDoHDwVN2tF\n"
   ]
  },
  {
   "cell_type": "markdown",
   "id": "8aa9a18f",
   "metadata": {},
   "source": [
    "# Main Features"
   ]
  },
  {
   "cell_type": "markdown",
   "id": "917becb9",
   "metadata": {},
   "source": [
    "## Getting main features from playlist"
   ]
  },
  {
   "cell_type": "code",
   "execution_count": 5,
   "id": "4eb0fd54",
   "metadata": {},
   "outputs": [],
   "source": [
    "sp = spotipy.Spotify(client_credentials_manager=SpotifyClientCredentials(client_id= client_id, client_secret= client_secret))"
   ]
  },
  {
   "cell_type": "code",
   "execution_count": 6,
   "id": "71c2a12d",
   "metadata": {},
   "outputs": [],
   "source": [
    "track_id= [sp.playlist(pl_id)['tracks']['items'][i]['track']['id'] for i in range(len(sp.playlist(pl_id)['tracks']['items']))]"
   ]
  },
  {
   "cell_type": "code",
   "execution_count": null,
   "id": "004d6c1f",
   "metadata": {},
   "outputs": [],
   "source": [
    "name= [sp.playlist(pl_id)['tracks']['items'][i]['track']['name'] for i in range(len(sp.playlist(pl_id)['tracks']['items']))]"
   ]
  },
  {
   "cell_type": "code",
   "execution_count": null,
   "id": "831637e6",
   "metadata": {},
   "outputs": [],
   "source": [
    "popularity= [sp.playlist(pl_id)['tracks']['items'][i]['track']['popularity'] for i in range(len(sp.playlist(pl_id)['tracks']['items']))]"
   ]
  },
  {
   "cell_type": "code",
   "execution_count": null,
   "id": "0577c580",
   "metadata": {},
   "outputs": [],
   "source": [
    "duration_ms= [sp.playlist(pl_id)['tracks']['items'][i]['track']['duration_ms'] for i in range(len(sp.playlist(pl_id)['tracks']['items']))]"
   ]
  },
  {
   "cell_type": "code",
   "execution_count": null,
   "id": "8e3bae29",
   "metadata": {},
   "outputs": [],
   "source": [
    "explicit= [sp.playlist(pl_id)['tracks']['items'][i]['track']['explicit'] for i in range(len(sp.playlist(pl_id)['tracks']['items']))]"
   ]
  },
  {
   "cell_type": "code",
   "execution_count": null,
   "id": "a3c5c72a",
   "metadata": {},
   "outputs": [],
   "source": [
    "artist_name= [sp.playlist(pl_id)['tracks']['items'][i]['track']['artists'][0]['name'] for i in range(len(sp.playlist(pl_id)['tracks']['items']))]"
   ]
  },
  {
   "cell_type": "code",
   "execution_count": null,
   "id": "c219ae90",
   "metadata": {},
   "outputs": [],
   "source": [
    "artist_id= [sp.playlist(pl_id)['tracks']['items'][i]['track']['artists'][0]['id'] for i in range(len(sp.playlist(pl_id)['tracks']['items']))]"
   ]
  },
  {
   "cell_type": "code",
   "execution_count": null,
   "id": "7194cfc0",
   "metadata": {},
   "outputs": [],
   "source": [
    "release_date= [sp.playlist(pl_id)['tracks']['items'][i]['track']['album']['release_date'] for i in range(len(sp.playlist(pl_id)['tracks']['items']))]"
   ]
  },
  {
   "cell_type": "markdown",
   "id": "c6895f40",
   "metadata": {},
   "source": [
    "## Features into dataframe"
   ]
  },
  {
   "cell_type": "code",
   "execution_count": null,
   "id": "ea9c968a",
   "metadata": {},
   "outputs": [],
   "source": [
    "main_df= pd.DataFrame({'track_id': track_id,\n",
    "                  'track_name': name,\n",
    "                  'popularity': popularity,\n",
    "                  'duration_ms': duration_ms,\n",
    "                  'explicit': explicit,\n",
    "                  'artist_name': artist_name,\n",
    "                  'artist_id': artist_id,\n",
    "                  'release_date': release_date},\n",
    "                  columns=['track_id','track_name','popularity','duration_ms','explicit','artist_name','artist_id','release_date'])\n",
    "main_df"
   ]
  },
  {
   "cell_type": "markdown",
   "id": "b8b32b8d",
   "metadata": {},
   "source": [
    "# Audio Features"
   ]
  },
  {
   "cell_type": "markdown",
   "id": "d19c0207",
   "metadata": {},
   "source": [
    "## Getting audio features from playlist"
   ]
  },
  {
   "cell_type": "code",
   "execution_count": null,
   "id": "cd0b783f",
   "metadata": {},
   "outputs": [],
   "source": [
    "tracks=[]\n",
    "\n",
    "for track_id in df.loc[:, 'track_id']:\n",
    "    track=f'spotify:track:{track_id}'\n",
    "    audio_features= sp.audio_features(track)\n",
    "    tracks.append(audio_features[0])"
   ]
  },
  {
   "cell_type": "markdown",
   "id": "9d3ddbb5",
   "metadata": {},
   "source": [
    "## Audio features into a clean dataframe"
   ]
  },
  {
   "cell_type": "code",
   "execution_count": null,
   "id": "891f12e0",
   "metadata": {},
   "outputs": [],
   "source": [
    "audio_df= pd.DataFrame(tracks)"
   ]
  },
  {
   "cell_type": "code",
   "execution_count": null,
   "id": "84f8ad65",
   "metadata": {},
   "outputs": [],
   "source": [
    "audio_df= audio_df.drop(['type','uri', 'track_href', 'analysis_url', 'duration_ms', 'time_signature'], axis=1)"
   ]
  },
  {
   "cell_type": "code",
   "execution_count": null,
   "id": "2b318102",
   "metadata": {},
   "outputs": [],
   "source": [
    "audio_df= audio_df.rename(columns={\"id\": \"track_id\"})\n",
    "audio_df"
   ]
  },
  {
   "cell_type": "markdown",
   "id": "41578e85",
   "metadata": {},
   "source": [
    "# Combining the 2 dataframes"
   ]
  },
  {
   "cell_type": "code",
   "execution_count": null,
   "id": "9c4b8d0a",
   "metadata": {},
   "outputs": [],
   "source": [
    "spotify_df= main_df.merge(audio_df, on='track_id')\n",
    "spotify_df"
   ]
  },
  {
   "cell_type": "markdown",
   "id": "301dd266",
   "metadata": {},
   "source": [
    "# Adding preview_url"
   ]
  },
  {
   "cell_type": "code",
   "execution_count": null,
   "id": "efd76a34",
   "metadata": {},
   "outputs": [],
   "source": [
    "previews=[]\n",
    "\n",
    "for track_id in spotify_df.loc[:, 'track_id']:\n",
    "    urn=f'spotify:track:{track_id}'\n",
    "    if sp.track(urn)['preview_url']:\n",
    "        preview_url= sp.track(urn)['preview_url']\n",
    "        previews.append(preview_url)\n",
    "    else:\n",
    "        previews.append('### no audio preview available ###')\n",
    "previews"
   ]
  },
  {
   "cell_type": "code",
   "execution_count": null,
   "id": "0b9a0542",
   "metadata": {},
   "outputs": [],
   "source": [
    "preview_df= pd.DataFrame(previews, columns=['preview_url'])\n",
    "preview_df"
   ]
  },
  {
   "cell_type": "markdown",
   "id": "3dc99db7",
   "metadata": {},
   "source": [
    "# Adding cover_url"
   ]
  },
  {
   "cell_type": "code",
   "execution_count": null,
   "id": "9fbbeafd",
   "metadata": {},
   "outputs": [],
   "source": [
    "covers=[]\n",
    "\n",
    "for track_id in spotify_df.loc[:, 'track_id']:\n",
    "    urn=f'spotify:track:{track_id}'\n",
    "    if sp.track(urn)['album']['images'][0]['url']:\n",
    "        cover_url= sp.track(urn)['album']['images'][0]['url']\n",
    "        covers.append(cover_url)\n",
    "    else:\n",
    "        covers.append('### no cover available ###')\n",
    "covers"
   ]
  },
  {
   "cell_type": "code",
   "execution_count": null,
   "id": "7a6df473",
   "metadata": {},
   "outputs": [],
   "source": [
    "covers_df= pd.DataFrame(covers, columns=['cover_url'])\n",
    "covers_df"
   ]
  },
  {
   "cell_type": "markdown",
   "id": "88304592",
   "metadata": {},
   "source": [
    "# Combining all dataframe in one"
   ]
  },
  {
   "cell_type": "code",
   "execution_count": null,
   "id": "3c20a1be",
   "metadata": {},
   "outputs": [],
   "source": [
    "playlist_df = pd.concat([spotify_df, preview_df, covers_df ], axis=1)\n",
    "playlist_df"
   ]
  },
  {
   "cell_type": "markdown",
   "id": "b617e1d6",
   "metadata": {},
   "source": [
    "# Export as csv"
   ]
  },
  {
   "cell_type": "code",
   "execution_count": null,
   "id": "43b129a4",
   "metadata": {},
   "outputs": [],
   "source": [
    "playlist_df.to_csv('playlist_df.csv')"
   ]
  }
 ],
 "metadata": {
  "kernelspec": {
   "display_name": "Python 3 (ipykernel)",
   "language": "python",
   "name": "python3"
  },
  "language_info": {
   "codemirror_mode": {
    "name": "ipython",
    "version": 3
   },
   "file_extension": ".py",
   "mimetype": "text/x-python",
   "name": "python",
   "nbconvert_exporter": "python",
   "pygments_lexer": "ipython3",
   "version": "3.10.6"
  },
  "toc": {
   "base_numbering": 1,
   "nav_menu": {},
   "number_sections": true,
   "sideBar": true,
   "skip_h1_title": false,
   "title_cell": "Table of Contents",
   "title_sidebar": "Contents",
   "toc_cell": false,
   "toc_position": {},
   "toc_section_display": true,
   "toc_window_display": false
  }
 },
 "nbformat": 4,
 "nbformat_minor": 5
}
