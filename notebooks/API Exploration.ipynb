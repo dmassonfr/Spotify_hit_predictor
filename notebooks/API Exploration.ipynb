{
 "cells": [
  {
   "cell_type": "markdown",
   "id": "bc0d7526",
   "metadata": {},
   "source": [
    "# Imports"
   ]
  },
  {
   "cell_type": "code",
   "execution_count": 1,
   "id": "0e989c2d",
   "metadata": {},
   "outputs": [],
   "source": [
    "import pandas as pd\n",
    "import numpy as np\n",
    "import json\n",
    "import requests"
   ]
  },
  {
   "cell_type": "markdown",
   "id": "e53b5c07",
   "metadata": {},
   "source": [
    "**installing spotipy**"
   ]
  },
  {
   "cell_type": "code",
   "execution_count": 2,
   "id": "267239dc",
   "metadata": {},
   "outputs": [
    {
     "name": "stdout",
     "output_type": "stream",
     "text": [
      "Requirement already satisfied: spotipy in /home/mdbruchard/.pyenv/versions/3.10.6/envs/spotify_hit_predictor/lib/python3.10/site-packages (2.22.1)\n",
      "Requirement already satisfied: requests>=2.25.0 in /home/mdbruchard/.pyenv/versions/3.10.6/envs/spotify_hit_predictor/lib/python3.10/site-packages (from spotipy) (2.28.2)\n",
      "Requirement already satisfied: urllib3>=1.26.0 in /home/mdbruchard/.pyenv/versions/3.10.6/envs/spotify_hit_predictor/lib/python3.10/site-packages (from spotipy) (1.26.15)\n",
      "Requirement already satisfied: redis>=3.5.3 in /home/mdbruchard/.pyenv/versions/3.10.6/envs/spotify_hit_predictor/lib/python3.10/site-packages (from spotipy) (4.5.2)\n",
      "Requirement already satisfied: six>=1.15.0 in /home/mdbruchard/.pyenv/versions/3.10.6/envs/spotify_hit_predictor/lib/python3.10/site-packages (from spotipy) (1.16.0)\n",
      "Requirement already satisfied: async-timeout>=4.0.2 in /home/mdbruchard/.pyenv/versions/3.10.6/envs/spotify_hit_predictor/lib/python3.10/site-packages (from redis>=3.5.3->spotipy) (4.0.2)\n",
      "Requirement already satisfied: idna<4,>=2.5 in /home/mdbruchard/.pyenv/versions/3.10.6/envs/spotify_hit_predictor/lib/python3.10/site-packages (from requests>=2.25.0->spotipy) (3.4)\n",
      "Requirement already satisfied: certifi>=2017.4.17 in /home/mdbruchard/.pyenv/versions/3.10.6/envs/spotify_hit_predictor/lib/python3.10/site-packages (from requests>=2.25.0->spotipy) (2022.12.7)\n",
      "Requirement already satisfied: charset-normalizer<4,>=2 in /home/mdbruchard/.pyenv/versions/3.10.6/envs/spotify_hit_predictor/lib/python3.10/site-packages (from requests>=2.25.0->spotipy) (3.1.0)\n"
     ]
    }
   ],
   "source": [
    "!pip install spotipy"
   ]
  },
  {
   "cell_type": "code",
   "execution_count": 3,
   "id": "ba82ede4",
   "metadata": {},
   "outputs": [],
   "source": [
    "import spotipy\n",
    "from spotipy.oauth2 import SpotifyClientCredentials"
   ]
  },
  {
   "cell_type": "markdown",
   "id": "d7510d9c",
   "metadata": {},
   "source": [
    "# Setting the credencials"
   ]
  },
  {
   "cell_type": "code",
   "execution_count": 13,
   "id": "19062491",
   "metadata": {},
   "outputs": [],
   "source": [
    "client_id = '2753defd10e2496f80b0d2348c2b5481'\n",
    "client_secret = '34a98fb5da1b4c7698f93c077db6b127'\n",
    "\n",
    "sp = spotipy.Spotify(client_credentials_manager=SpotifyClientCredentials(client_id=client_id, client_secret=client_secret))\n"
   ]
  },
  {
   "cell_type": "markdown",
   "id": "cf7adcb6",
   "metadata": {},
   "source": [
    "# Prepare data"
   ]
  },
  {
   "cell_type": "code",
   "execution_count": 14,
   "id": "5db83a45",
   "metadata": {},
   "outputs": [
    {
     "data": {
      "text/plain": [
       "50"
      ]
     },
     "execution_count": 14,
     "metadata": {},
     "output_type": "execute_result"
    }
   ],
   "source": [
    "# Playlist id\n",
    "pl_id = 'spotify:playlist:37i9dQZF1DX18jTM2l2fJY'\n",
    "\n",
    "# Getting the tracks in the playlist\n",
    "response = sp.playlist(pl_id)\n",
    "\n",
    "# How many tracks in the playlist\n",
    "len(response['tracks']['items'])"
   ]
  },
  {
   "cell_type": "markdown",
   "id": "bd94864a",
   "metadata": {},
   "source": [
    "## Getting features ready to turn into dataframe"
   ]
  },
  {
   "cell_type": "code",
   "execution_count": 15,
   "id": "fff1710d",
   "metadata": {},
   "outputs": [],
   "source": [
    "name = [response['tracks']['items'][i]['track']['name'] for i in range(len(response['tracks']['items']))]"
   ]
  },
  {
   "cell_type": "code",
   "execution_count": 16,
   "id": "b3377ad3",
   "metadata": {},
   "outputs": [],
   "source": [
    "artist = [response['tracks']['items'][i]['track']['artists'][0]['name'] for i in range(len(response['tracks']['items']))]"
   ]
  },
  {
   "cell_type": "code",
   "execution_count": 17,
   "id": "dbe0dd0e",
   "metadata": {},
   "outputs": [],
   "source": [
    "duration_ms = [response['tracks']['items'][i]['track']['duration_ms'] for i in range(len(response['tracks']['items']))]"
   ]
  },
  {
   "cell_type": "code",
   "execution_count": 18,
   "id": "6b4de2c2",
   "metadata": {},
   "outputs": [],
   "source": [
    "popularity = [response['tracks']['items'][i]['track']['popularity'] for i in range(len(response['tracks']['items']))]"
   ]
  },
  {
   "cell_type": "code",
   "execution_count": 19,
   "id": "92485b66",
   "metadata": {},
   "outputs": [],
   "source": [
    "Id = [response['tracks']['items'][i]['track']['id'] for i in range(len(response['tracks']['items']))]"
   ]
  },
  {
   "cell_type": "code",
   "execution_count": 20,
   "id": "1b96bbaa",
   "metadata": {
    "scrolled": true
   },
   "outputs": [],
   "source": [
    "href = [response['tracks']['items'][i]['track']['href'] for i in range(len(response['tracks']['items']))]"
   ]
  },
  {
   "cell_type": "code",
   "execution_count": 21,
   "id": "fa0cc3de",
   "metadata": {},
   "outputs": [],
   "source": [
    "release_date = [response['tracks']['items'][i]['track']['album']['release_date'] for i in range(len(response['tracks']['items']))]"
   ]
  },
  {
   "cell_type": "markdown",
   "id": "5202d31b",
   "metadata": {},
   "source": [
    "### 1st Dataframe ready"
   ]
  },
  {
   "cell_type": "code",
   "execution_count": 22,
   "id": "e3867adc",
   "metadata": {},
   "outputs": [],
   "source": [
    "data = {}\n",
    "\n",
    "# Setting the features\n",
    "data['name'] = name\n",
    "data['artist'] = artist\n",
    "data['duration_ms'] = duration_ms\n",
    "data['popularity'] = popularity\n",
    "data['id'] = Id\n",
    "data['href'] = href\n",
    "data['release_date'] = release_date\n",
    "\n",
    "# turning into dataframe\n",
    "df = pd.DataFrame(data)\n",
    "\n",
    "#turninge the realise date into datetime\n",
    "df['release_date'] = pd.to_datetime(df['release_date'])"
   ]
  },
  {
   "cell_type": "markdown",
   "id": "8cac2296",
   "metadata": {},
   "source": [
    "### 2nd Datarame ready"
   ]
  },
  {
   "cell_type": "code",
   "execution_count": 23,
   "id": "c6394b57",
   "metadata": {},
   "outputs": [],
   "source": [
    "# List of features set\n",
    "tracks = []\n",
    "\n",
    "# For each track in the 1st dataframe \n",
    "for track_id in df.loc[:,'id']:\n",
    "    track = f'spotify:track:{track_id}' # Get the track features\n",
    "    audio_features = sp.audio_features(track) # Save in audio features variable\n",
    "    tracks.append(audio_features[0]) # Append to the tracks list"
   ]
  },
  {
   "cell_type": "code",
   "execution_count": 24,
   "id": "4a036211",
   "metadata": {},
   "outputs": [
    {
     "data": {
      "text/html": [
       "<div>\n",
       "<style scoped>\n",
       "    .dataframe tbody tr th:only-of-type {\n",
       "        vertical-align: middle;\n",
       "    }\n",
       "\n",
       "    .dataframe tbody tr th {\n",
       "        vertical-align: top;\n",
       "    }\n",
       "\n",
       "    .dataframe thead th {\n",
       "        text-align: right;\n",
       "    }\n",
       "</style>\n",
       "<table border=\"1\" class=\"dataframe\">\n",
       "  <thead>\n",
       "    <tr style=\"text-align: right;\">\n",
       "      <th></th>\n",
       "      <th>danceability</th>\n",
       "      <th>energy</th>\n",
       "      <th>key</th>\n",
       "      <th>loudness</th>\n",
       "      <th>mode</th>\n",
       "      <th>speechiness</th>\n",
       "      <th>acousticness</th>\n",
       "      <th>instrumentalness</th>\n",
       "      <th>liveness</th>\n",
       "      <th>valence</th>\n",
       "      <th>tempo</th>\n",
       "      <th>type</th>\n",
       "      <th>id</th>\n",
       "      <th>uri</th>\n",
       "      <th>track_href</th>\n",
       "      <th>analysis_url</th>\n",
       "      <th>duration_ms</th>\n",
       "      <th>time_signature</th>\n",
       "    </tr>\n",
       "  </thead>\n",
       "  <tbody>\n",
       "    <tr>\n",
       "      <th>0</th>\n",
       "      <td>0.520</td>\n",
       "      <td>0.731</td>\n",
       "      <td>6</td>\n",
       "      <td>-5.338</td>\n",
       "      <td>0</td>\n",
       "      <td>0.0557</td>\n",
       "      <td>0.3420</td>\n",
       "      <td>0.001010</td>\n",
       "      <td>0.3110</td>\n",
       "      <td>0.662</td>\n",
       "      <td>173.930</td>\n",
       "      <td>audio_features</td>\n",
       "      <td>4LRPiXqCikLlN15c3yImP7</td>\n",
       "      <td>spotify:track:4LRPiXqCikLlN15c3yImP7</td>\n",
       "      <td>https://api.spotify.com/v1/tracks/4LRPiXqCikLl...</td>\n",
       "      <td>https://api.spotify.com/v1/audio-analysis/4LRP...</td>\n",
       "      <td>167303</td>\n",
       "      <td>4</td>\n",
       "    </tr>\n",
       "    <tr>\n",
       "      <th>1</th>\n",
       "      <td>0.761</td>\n",
       "      <td>0.525</td>\n",
       "      <td>11</td>\n",
       "      <td>-6.900</td>\n",
       "      <td>1</td>\n",
       "      <td>0.0944</td>\n",
       "      <td>0.4400</td>\n",
       "      <td>0.000007</td>\n",
       "      <td>0.0921</td>\n",
       "      <td>0.531</td>\n",
       "      <td>80.870</td>\n",
       "      <td>audio_features</td>\n",
       "      <td>02MWAaffLxlfxAUY7c5dvx</td>\n",
       "      <td>spotify:track:02MWAaffLxlfxAUY7c5dvx</td>\n",
       "      <td>https://api.spotify.com/v1/tracks/02MWAaffLxlf...</td>\n",
       "      <td>https://api.spotify.com/v1/audio-analysis/02MW...</td>\n",
       "      <td>238805</td>\n",
       "      <td>4</td>\n",
       "    </tr>\n",
       "    <tr>\n",
       "      <th>2</th>\n",
       "      <td>0.591</td>\n",
       "      <td>0.764</td>\n",
       "      <td>1</td>\n",
       "      <td>-5.484</td>\n",
       "      <td>1</td>\n",
       "      <td>0.0483</td>\n",
       "      <td>0.0383</td>\n",
       "      <td>0.000000</td>\n",
       "      <td>0.1030</td>\n",
       "      <td>0.478</td>\n",
       "      <td>169.928</td>\n",
       "      <td>audio_features</td>\n",
       "      <td>5HCyWlXZPP0y6Gqq8TgA20</td>\n",
       "      <td>spotify:track:5HCyWlXZPP0y6Gqq8TgA20</td>\n",
       "      <td>https://api.spotify.com/v1/tracks/5HCyWlXZPP0y...</td>\n",
       "      <td>https://api.spotify.com/v1/audio-analysis/5HCy...</td>\n",
       "      <td>141806</td>\n",
       "      <td>4</td>\n",
       "    </tr>\n",
       "    <tr>\n",
       "      <th>3</th>\n",
       "      <td>0.911</td>\n",
       "      <td>0.712</td>\n",
       "      <td>1</td>\n",
       "      <td>-5.105</td>\n",
       "      <td>0</td>\n",
       "      <td>0.0817</td>\n",
       "      <td>0.0901</td>\n",
       "      <td>0.000027</td>\n",
       "      <td>0.0933</td>\n",
       "      <td>0.425</td>\n",
       "      <td>92.005</td>\n",
       "      <td>audio_features</td>\n",
       "      <td>6Sq7ltF9Qa7SNFBsV5Cogx</td>\n",
       "      <td>spotify:track:6Sq7ltF9Qa7SNFBsV5Cogx</td>\n",
       "      <td>https://api.spotify.com/v1/tracks/6Sq7ltF9Qa7S...</td>\n",
       "      <td>https://api.spotify.com/v1/audio-analysis/6Sq7...</td>\n",
       "      <td>178567</td>\n",
       "      <td>4</td>\n",
       "    </tr>\n",
       "    <tr>\n",
       "      <th>4</th>\n",
       "      <td>0.650</td>\n",
       "      <td>0.715</td>\n",
       "      <td>5</td>\n",
       "      <td>-5.198</td>\n",
       "      <td>0</td>\n",
       "      <td>0.2530</td>\n",
       "      <td>0.0993</td>\n",
       "      <td>0.000291</td>\n",
       "      <td>0.1260</td>\n",
       "      <td>0.187</td>\n",
       "      <td>106.672</td>\n",
       "      <td>audio_features</td>\n",
       "      <td>1IHWl5LamUGEuP4ozKQSXZ</td>\n",
       "      <td>spotify:track:1IHWl5LamUGEuP4ozKQSXZ</td>\n",
       "      <td>https://api.spotify.com/v1/tracks/1IHWl5LamUGE...</td>\n",
       "      <td>https://api.spotify.com/v1/audio-analysis/1IHW...</td>\n",
       "      <td>243717</td>\n",
       "      <td>4</td>\n",
       "    </tr>\n",
       "  </tbody>\n",
       "</table>\n",
       "</div>"
      ],
      "text/plain": [
       "   danceability  energy  key  loudness  mode  speechiness  acousticness  \\\n",
       "0         0.520   0.731    6    -5.338     0       0.0557        0.3420   \n",
       "1         0.761   0.525   11    -6.900     1       0.0944        0.4400   \n",
       "2         0.591   0.764    1    -5.484     1       0.0483        0.0383   \n",
       "3         0.911   0.712    1    -5.105     0       0.0817        0.0901   \n",
       "4         0.650   0.715    5    -5.198     0       0.2530        0.0993   \n",
       "\n",
       "   instrumentalness  liveness  valence    tempo            type  \\\n",
       "0          0.001010    0.3110    0.662  173.930  audio_features   \n",
       "1          0.000007    0.0921    0.531   80.870  audio_features   \n",
       "2          0.000000    0.1030    0.478  169.928  audio_features   \n",
       "3          0.000027    0.0933    0.425   92.005  audio_features   \n",
       "4          0.000291    0.1260    0.187  106.672  audio_features   \n",
       "\n",
       "                       id                                   uri  \\\n",
       "0  4LRPiXqCikLlN15c3yImP7  spotify:track:4LRPiXqCikLlN15c3yImP7   \n",
       "1  02MWAaffLxlfxAUY7c5dvx  spotify:track:02MWAaffLxlfxAUY7c5dvx   \n",
       "2  5HCyWlXZPP0y6Gqq8TgA20  spotify:track:5HCyWlXZPP0y6Gqq8TgA20   \n",
       "3  6Sq7ltF9Qa7SNFBsV5Cogx  spotify:track:6Sq7ltF9Qa7SNFBsV5Cogx   \n",
       "4  1IHWl5LamUGEuP4ozKQSXZ  spotify:track:1IHWl5LamUGEuP4ozKQSXZ   \n",
       "\n",
       "                                          track_href  \\\n",
       "0  https://api.spotify.com/v1/tracks/4LRPiXqCikLl...   \n",
       "1  https://api.spotify.com/v1/tracks/02MWAaffLxlf...   \n",
       "2  https://api.spotify.com/v1/tracks/5HCyWlXZPP0y...   \n",
       "3  https://api.spotify.com/v1/tracks/6Sq7ltF9Qa7S...   \n",
       "4  https://api.spotify.com/v1/tracks/1IHWl5LamUGE...   \n",
       "\n",
       "                                        analysis_url  duration_ms  \\\n",
       "0  https://api.spotify.com/v1/audio-analysis/4LRP...       167303   \n",
       "1  https://api.spotify.com/v1/audio-analysis/02MW...       238805   \n",
       "2  https://api.spotify.com/v1/audio-analysis/5HCy...       141806   \n",
       "3  https://api.spotify.com/v1/audio-analysis/6Sq7...       178567   \n",
       "4  https://api.spotify.com/v1/audio-analysis/1IHW...       243717   \n",
       "\n",
       "   time_signature  \n",
       "0               4  \n",
       "1               4  \n",
       "2               4  \n",
       "3               4  \n",
       "4               4  "
      ]
     },
     "execution_count": 24,
     "metadata": {},
     "output_type": "execute_result"
    }
   ],
   "source": [
    "# New dataframe with all the tracks in the first dataframe\n",
    "df_features =  pd.DataFrame(tracks)\n",
    "df_features.head()"
   ]
  },
  {
   "cell_type": "code",
   "execution_count": 25,
   "id": "91244fca",
   "metadata": {},
   "outputs": [
    {
     "data": {
      "text/html": [
       "<div>\n",
       "<style scoped>\n",
       "    .dataframe tbody tr th:only-of-type {\n",
       "        vertical-align: middle;\n",
       "    }\n",
       "\n",
       "    .dataframe tbody tr th {\n",
       "        vertical-align: top;\n",
       "    }\n",
       "\n",
       "    .dataframe thead th {\n",
       "        text-align: right;\n",
       "    }\n",
       "</style>\n",
       "<table border=\"1\" class=\"dataframe\">\n",
       "  <thead>\n",
       "    <tr style=\"text-align: right;\">\n",
       "      <th></th>\n",
       "      <th>name</th>\n",
       "      <th>artist</th>\n",
       "      <th>duration_ms_x</th>\n",
       "      <th>popularity</th>\n",
       "      <th>id</th>\n",
       "      <th>href</th>\n",
       "      <th>release_date</th>\n",
       "      <th>danceability</th>\n",
       "      <th>energy</th>\n",
       "      <th>key</th>\n",
       "      <th>...</th>\n",
       "      <th>instrumentalness</th>\n",
       "      <th>liveness</th>\n",
       "      <th>valence</th>\n",
       "      <th>tempo</th>\n",
       "      <th>type</th>\n",
       "      <th>uri</th>\n",
       "      <th>track_href</th>\n",
       "      <th>analysis_url</th>\n",
       "      <th>duration_ms_y</th>\n",
       "      <th>time_signature</th>\n",
       "    </tr>\n",
       "  </thead>\n",
       "  <tbody>\n",
       "    <tr>\n",
       "      <th>0</th>\n",
       "      <td>As It Was</td>\n",
       "      <td>Harry Styles</td>\n",
       "      <td>167303</td>\n",
       "      <td>90</td>\n",
       "      <td>4LRPiXqCikLlN15c3yImP7</td>\n",
       "      <td>https://api.spotify.com/v1/tracks/4LRPiXqCikLl...</td>\n",
       "      <td>2022-03-31</td>\n",
       "      <td>0.520</td>\n",
       "      <td>0.731</td>\n",
       "      <td>6</td>\n",
       "      <td>...</td>\n",
       "      <td>0.001010</td>\n",
       "      <td>0.3110</td>\n",
       "      <td>0.662</td>\n",
       "      <td>173.930</td>\n",
       "      <td>audio_features</td>\n",
       "      <td>spotify:track:4LRPiXqCikLlN15c3yImP7</td>\n",
       "      <td>https://api.spotify.com/v1/tracks/4LRPiXqCikLl...</td>\n",
       "      <td>https://api.spotify.com/v1/audio-analysis/4LRP...</td>\n",
       "      <td>167303</td>\n",
       "      <td>4</td>\n",
       "    </tr>\n",
       "    <tr>\n",
       "      <th>1</th>\n",
       "      <td>Heat Waves</td>\n",
       "      <td>Glass Animals</td>\n",
       "      <td>238805</td>\n",
       "      <td>84</td>\n",
       "      <td>02MWAaffLxlfxAUY7c5dvx</td>\n",
       "      <td>https://api.spotify.com/v1/tracks/02MWAaffLxlf...</td>\n",
       "      <td>2020-08-06</td>\n",
       "      <td>0.761</td>\n",
       "      <td>0.525</td>\n",
       "      <td>11</td>\n",
       "      <td>...</td>\n",
       "      <td>0.000007</td>\n",
       "      <td>0.0921</td>\n",
       "      <td>0.531</td>\n",
       "      <td>80.870</td>\n",
       "      <td>audio_features</td>\n",
       "      <td>spotify:track:02MWAaffLxlfxAUY7c5dvx</td>\n",
       "      <td>https://api.spotify.com/v1/tracks/02MWAaffLxlf...</td>\n",
       "      <td>https://api.spotify.com/v1/audio-analysis/02MW...</td>\n",
       "      <td>238805</td>\n",
       "      <td>4</td>\n",
       "    </tr>\n",
       "    <tr>\n",
       "      <th>2</th>\n",
       "      <td>STAY (with Justin Bieber)</td>\n",
       "      <td>The Kid LAROI</td>\n",
       "      <td>141805</td>\n",
       "      <td>85</td>\n",
       "      <td>5HCyWlXZPP0y6Gqq8TgA20</td>\n",
       "      <td>https://api.spotify.com/v1/tracks/5HCyWlXZPP0y...</td>\n",
       "      <td>2021-07-09</td>\n",
       "      <td>0.591</td>\n",
       "      <td>0.764</td>\n",
       "      <td>1</td>\n",
       "      <td>...</td>\n",
       "      <td>0.000000</td>\n",
       "      <td>0.1030</td>\n",
       "      <td>0.478</td>\n",
       "      <td>169.928</td>\n",
       "      <td>audio_features</td>\n",
       "      <td>spotify:track:5HCyWlXZPP0y6Gqq8TgA20</td>\n",
       "      <td>https://api.spotify.com/v1/tracks/5HCyWlXZPP0y...</td>\n",
       "      <td>https://api.spotify.com/v1/audio-analysis/5HCy...</td>\n",
       "      <td>141806</td>\n",
       "      <td>4</td>\n",
       "    </tr>\n",
       "    <tr>\n",
       "      <th>3</th>\n",
       "      <td>Me Porto Bonito</td>\n",
       "      <td>Bad Bunny</td>\n",
       "      <td>178567</td>\n",
       "      <td>90</td>\n",
       "      <td>6Sq7ltF9Qa7SNFBsV5Cogx</td>\n",
       "      <td>https://api.spotify.com/v1/tracks/6Sq7ltF9Qa7S...</td>\n",
       "      <td>2022-05-06</td>\n",
       "      <td>0.911</td>\n",
       "      <td>0.712</td>\n",
       "      <td>1</td>\n",
       "      <td>...</td>\n",
       "      <td>0.000027</td>\n",
       "      <td>0.0933</td>\n",
       "      <td>0.425</td>\n",
       "      <td>92.005</td>\n",
       "      <td>audio_features</td>\n",
       "      <td>spotify:track:6Sq7ltF9Qa7SNFBsV5Cogx</td>\n",
       "      <td>https://api.spotify.com/v1/tracks/6Sq7ltF9Qa7S...</td>\n",
       "      <td>https://api.spotify.com/v1/audio-analysis/6Sq7...</td>\n",
       "      <td>178567</td>\n",
       "      <td>4</td>\n",
       "    </tr>\n",
       "    <tr>\n",
       "      <th>4</th>\n",
       "      <td>Tití Me Preguntó</td>\n",
       "      <td>Bad Bunny</td>\n",
       "      <td>243716</td>\n",
       "      <td>89</td>\n",
       "      <td>1IHWl5LamUGEuP4ozKQSXZ</td>\n",
       "      <td>https://api.spotify.com/v1/tracks/1IHWl5LamUGE...</td>\n",
       "      <td>2022-05-06</td>\n",
       "      <td>0.650</td>\n",
       "      <td>0.715</td>\n",
       "      <td>5</td>\n",
       "      <td>...</td>\n",
       "      <td>0.000291</td>\n",
       "      <td>0.1260</td>\n",
       "      <td>0.187</td>\n",
       "      <td>106.672</td>\n",
       "      <td>audio_features</td>\n",
       "      <td>spotify:track:1IHWl5LamUGEuP4ozKQSXZ</td>\n",
       "      <td>https://api.spotify.com/v1/tracks/1IHWl5LamUGE...</td>\n",
       "      <td>https://api.spotify.com/v1/audio-analysis/1IHW...</td>\n",
       "      <td>243717</td>\n",
       "      <td>4</td>\n",
       "    </tr>\n",
       "  </tbody>\n",
       "</table>\n",
       "<p>5 rows × 24 columns</p>\n",
       "</div>"
      ],
      "text/plain": [
       "                        name         artist  duration_ms_x  popularity  \\\n",
       "0                  As It Was   Harry Styles         167303          90   \n",
       "1                 Heat Waves  Glass Animals         238805          84   \n",
       "2  STAY (with Justin Bieber)  The Kid LAROI         141805          85   \n",
       "3            Me Porto Bonito      Bad Bunny         178567          90   \n",
       "4           Tití Me Preguntó      Bad Bunny         243716          89   \n",
       "\n",
       "                       id                                               href  \\\n",
       "0  4LRPiXqCikLlN15c3yImP7  https://api.spotify.com/v1/tracks/4LRPiXqCikLl...   \n",
       "1  02MWAaffLxlfxAUY7c5dvx  https://api.spotify.com/v1/tracks/02MWAaffLxlf...   \n",
       "2  5HCyWlXZPP0y6Gqq8TgA20  https://api.spotify.com/v1/tracks/5HCyWlXZPP0y...   \n",
       "3  6Sq7ltF9Qa7SNFBsV5Cogx  https://api.spotify.com/v1/tracks/6Sq7ltF9Qa7S...   \n",
       "4  1IHWl5LamUGEuP4ozKQSXZ  https://api.spotify.com/v1/tracks/1IHWl5LamUGE...   \n",
       "\n",
       "  release_date  danceability  energy  key  ...  instrumentalness  liveness  \\\n",
       "0   2022-03-31         0.520   0.731    6  ...          0.001010    0.3110   \n",
       "1   2020-08-06         0.761   0.525   11  ...          0.000007    0.0921   \n",
       "2   2021-07-09         0.591   0.764    1  ...          0.000000    0.1030   \n",
       "3   2022-05-06         0.911   0.712    1  ...          0.000027    0.0933   \n",
       "4   2022-05-06         0.650   0.715    5  ...          0.000291    0.1260   \n",
       "\n",
       "   valence    tempo            type                                   uri  \\\n",
       "0    0.662  173.930  audio_features  spotify:track:4LRPiXqCikLlN15c3yImP7   \n",
       "1    0.531   80.870  audio_features  spotify:track:02MWAaffLxlfxAUY7c5dvx   \n",
       "2    0.478  169.928  audio_features  spotify:track:5HCyWlXZPP0y6Gqq8TgA20   \n",
       "3    0.425   92.005  audio_features  spotify:track:6Sq7ltF9Qa7SNFBsV5Cogx   \n",
       "4    0.187  106.672  audio_features  spotify:track:1IHWl5LamUGEuP4ozKQSXZ   \n",
       "\n",
       "                                          track_href  \\\n",
       "0  https://api.spotify.com/v1/tracks/4LRPiXqCikLl...   \n",
       "1  https://api.spotify.com/v1/tracks/02MWAaffLxlf...   \n",
       "2  https://api.spotify.com/v1/tracks/5HCyWlXZPP0y...   \n",
       "3  https://api.spotify.com/v1/tracks/6Sq7ltF9Qa7S...   \n",
       "4  https://api.spotify.com/v1/tracks/1IHWl5LamUGE...   \n",
       "\n",
       "                                        analysis_url duration_ms_y  \\\n",
       "0  https://api.spotify.com/v1/audio-analysis/4LRP...        167303   \n",
       "1  https://api.spotify.com/v1/audio-analysis/02MW...        238805   \n",
       "2  https://api.spotify.com/v1/audio-analysis/5HCy...        141806   \n",
       "3  https://api.spotify.com/v1/audio-analysis/6Sq7...        178567   \n",
       "4  https://api.spotify.com/v1/audio-analysis/1IHW...        243717   \n",
       "\n",
       "  time_signature  \n",
       "0              4  \n",
       "1              4  \n",
       "2              4  \n",
       "3              4  \n",
       "4              4  \n",
       "\n",
       "[5 rows x 24 columns]"
      ]
     },
     "execution_count": 25,
     "metadata": {},
     "output_type": "execute_result"
    }
   ],
   "source": [
    "# Inner merging between the 2 dataframe on id\n",
    "data = df.merge(df_features, on='id')\n",
    "data.head()"
   ]
  },
  {
   "cell_type": "code",
   "execution_count": 26,
   "id": "8299b773",
   "metadata": {},
   "outputs": [
    {
     "data": {
      "text/plain": [
       "(50, 24)"
      ]
     },
     "execution_count": 26,
     "metadata": {},
     "output_type": "execute_result"
    }
   ],
   "source": [
    "data.shape"
   ]
  }
 ],
 "metadata": {
  "kernelspec": {
   "display_name": "Python 3 (ipykernel)",
   "language": "python",
   "name": "python3"
  },
  "language_info": {
   "codemirror_mode": {
    "name": "ipython",
    "version": 3
   },
   "file_extension": ".py",
   "mimetype": "text/x-python",
   "name": "python",
   "nbconvert_exporter": "python",
   "pygments_lexer": "ipython3",
   "version": "3.10.6"
  },
  "toc": {
   "base_numbering": 1,
   "nav_menu": {},
   "number_sections": true,
   "sideBar": true,
   "skip_h1_title": false,
   "title_cell": "Table of Contents",
   "title_sidebar": "Contents",
   "toc_cell": false,
   "toc_position": {},
   "toc_section_display": true,
   "toc_window_display": true
  },
  "varInspector": {
   "cols": {
    "lenName": 16,
    "lenType": 16,
    "lenVar": 40
   },
   "kernels_config": {
    "python": {
     "delete_cmd_postfix": "",
     "delete_cmd_prefix": "del ",
     "library": "var_list.py",
     "varRefreshCmd": "print(var_dic_list())"
    },
    "r": {
     "delete_cmd_postfix": ") ",
     "delete_cmd_prefix": "rm(",
     "library": "var_list.r",
     "varRefreshCmd": "cat(var_dic_list()) "
    }
   },
   "types_to_exclude": [
    "module",
    "function",
    "builtin_function_or_method",
    "instance",
    "_Feature"
   ],
   "window_display": false
  }
 },
 "nbformat": 4,
 "nbformat_minor": 5
}
