{
 "cells": [
  {
   "cell_type": "markdown",
   "id": "e7a94f47",
   "metadata": {},
   "source": [
    "# Install"
   ]
  },
  {
   "cell_type": "code",
   "execution_count": 5,
   "id": "33f3506a",
   "metadata": {},
   "outputs": [
    {
     "name": "stdout",
     "output_type": "stream",
     "text": [
      "Requirement already satisfied: spotipy in /Users/david/.pyenv/versions/3.10.6/envs/lewagon/lib/python3.10/site-packages (2.22.1)\n",
      "Requirement already satisfied: redis>=3.5.3 in /Users/david/.pyenv/versions/3.10.6/envs/lewagon/lib/python3.10/site-packages (from spotipy) (4.5.1)\n",
      "Requirement already satisfied: requests>=2.25.0 in /Users/david/.pyenv/versions/3.10.6/envs/lewagon/lib/python3.10/site-packages (from spotipy) (2.28.1)\n",
      "Requirement already satisfied: six>=1.15.0 in /Users/david/.pyenv/versions/3.10.6/envs/lewagon/lib/python3.10/site-packages (from spotipy) (1.16.0)\n",
      "Requirement already satisfied: urllib3>=1.26.0 in /Users/david/.pyenv/versions/3.10.6/envs/lewagon/lib/python3.10/site-packages (from spotipy) (1.26.12)\n",
      "Requirement already satisfied: async-timeout>=4.0.2 in /Users/david/.pyenv/versions/3.10.6/envs/lewagon/lib/python3.10/site-packages (from redis>=3.5.3->spotipy) (4.0.2)\n",
      "Requirement already satisfied: charset-normalizer<3,>=2 in /Users/david/.pyenv/versions/3.10.6/envs/lewagon/lib/python3.10/site-packages (from requests>=2.25.0->spotipy) (2.1.1)\n",
      "Requirement already satisfied: certifi>=2017.4.17 in /Users/david/.pyenv/versions/3.10.6/envs/lewagon/lib/python3.10/site-packages (from requests>=2.25.0->spotipy) (2022.9.24)\n",
      "Requirement already satisfied: idna<4,>=2.5 in /Users/david/.pyenv/versions/3.10.6/envs/lewagon/lib/python3.10/site-packages (from requests>=2.25.0->spotipy) (3.4)\n"
     ]
    }
   ],
   "source": [
    "!pip install spotipy"
   ]
  },
  {
   "cell_type": "markdown",
   "id": "85e3d30f",
   "metadata": {},
   "source": [
    "# Imports"
   ]
  },
  {
   "cell_type": "code",
   "execution_count": 6,
   "id": "d8244c4e",
   "metadata": {},
   "outputs": [],
   "source": [
    "import spotipy\n",
    "from spotipy.oauth2 import SpotifyClientCredentials\n",
    "from pprint import pprint\n",
    "import pandas as pd\n",
    "from __future__ import print_function    # (at top of module)\n",
    "import json\n",
    "import time\n",
    "import sys"
   ]
  },
  {
   "cell_type": "markdown",
   "id": "186b5dc2",
   "metadata": {},
   "source": [
    "# IDs "
   ]
  },
  {
   "cell_type": "code",
   "execution_count": 4,
   "id": "1e00174c",
   "metadata": {},
   "outputs": [
    {
     "ename": "NameError",
     "evalue": "name 'CLIENT_ID' is not defined",
     "output_type": "error",
     "traceback": [
      "\u001b[0;31m---------------------------------------------------------------------------\u001b[0m",
      "\u001b[0;31mNameError\u001b[0m                                 Traceback (most recent call last)",
      "Cell \u001b[0;32mIn [4], line 1\u001b[0m\n\u001b[0;32m----> 1\u001b[0m client_id\u001b[38;5;241m=\u001b[39m \u001b[43mCLIENT_ID\u001b[49m\n\u001b[1;32m      2\u001b[0m client_secret\u001b[38;5;241m=\u001b[39m CLIENT_SECRET\n\u001b[1;32m      3\u001b[0m pl_id \u001b[38;5;241m=\u001b[39m \u001b[38;5;124m'\u001b[39m\u001b[38;5;124mspotify:playlist:5ABHKGoOzxkaa28ttQV9sE\u001b[39m\u001b[38;5;124m'\u001b[39m\n",
      "\u001b[0;31mNameError\u001b[0m: name 'CLIENT_ID' is not defined"
     ]
    }
   ],
   "source": [
    "client_id= CLIENT_ID\n",
    "client_secret= CLIENT_SECRET\n",
    "pl_id = 'spotify:playlist:5ABHKGoOzxkaa28ttQV9sE'"
   ]
  },
  {
   "cell_type": "markdown",
   "id": "99206eb4",
   "metadata": {},
   "source": [
    "# Track main informations (including popoularity)"
   ]
  },
  {
   "cell_type": "markdown",
   "id": "02568ab4",
   "metadata": {},
   "source": [
    "## from a playlist id "
   ]
  },
  {
   "cell_type": "code",
   "execution_count": 4,
   "id": "b7cb4b28",
   "metadata": {},
   "outputs": [
    {
     "data": {
      "text/plain": [
       "dict_keys(['added_at', 'added_by', 'is_local', 'primary_color', 'track', 'video_thumbnail'])"
      ]
     },
     "execution_count": 4,
     "metadata": {},
     "output_type": "execute_result"
    }
   ],
   "source": [
    "sp = spotipy.Spotify(client_credentials_manager=SpotifyClientCredentials(client_id= client_id, client_secret= client_secret))\n",
    "\n",
    "pl_id = 'spotify:playlist:5ABHKGoOzxkaa28ttQV9sE'\n",
    "\n",
    "response = sp.playlist(pl_id)\n",
    "response['tracks']['items'][0].keys()"
   ]
  },
  {
   "cell_type": "code",
   "execution_count": 5,
   "id": "4c6b98ca",
   "metadata": {},
   "outputs": [
    {
     "data": {
      "text/plain": [
       "dict_keys(['album', 'artists', 'available_markets', 'disc_number', 'duration_ms', 'episode', 'explicit', 'external_ids', 'external_urls', 'href', 'id', 'is_local', 'name', 'popularity', 'preview_url', 'track', 'track_number', 'type', 'uri'])"
      ]
     },
     "execution_count": 5,
     "metadata": {},
     "output_type": "execute_result"
    }
   ],
   "source": [
    "response['tracks']['items'][0]['track'].keys()"
   ]
  },
  {
   "cell_type": "code",
   "execution_count": 6,
   "id": "430b1f07",
   "metadata": {},
   "outputs": [
    {
     "data": {
      "text/plain": [
       "'After Hours'"
      ]
     },
     "execution_count": 6,
     "metadata": {},
     "output_type": "execute_result"
    }
   ],
   "source": [
    "album_name= response['tracks']['items'][0]['track']['album']['name']\n",
    "album_name"
   ]
  },
  {
   "cell_type": "code",
   "execution_count": 7,
   "id": "5cf4177c",
   "metadata": {},
   "outputs": [
    {
     "data": {
      "text/plain": [
       "'4yP0hdKOZPNshxUOjY0cZj'"
      ]
     },
     "execution_count": 7,
     "metadata": {},
     "output_type": "execute_result"
    }
   ],
   "source": [
    "album_id= response['tracks']['items'][0]['track']['album']['id']\n",
    "album_id"
   ]
  },
  {
   "cell_type": "code",
   "execution_count": 8,
   "id": "14ff04fd",
   "metadata": {},
   "outputs": [
    {
     "data": {
      "text/plain": [
       "89"
      ]
     },
     "execution_count": 8,
     "metadata": {},
     "output_type": "execute_result"
    }
   ],
   "source": [
    "popularity= response['tracks']['items'][0]['track']['popularity']\n",
    "popularity"
   ]
  },
  {
   "cell_type": "code",
   "execution_count": 9,
   "id": "3284bf49",
   "metadata": {},
   "outputs": [
    {
     "data": {
      "text/plain": [
       "'The Weeknd'"
      ]
     },
     "execution_count": 9,
     "metadata": {},
     "output_type": "execute_result"
    }
   ],
   "source": [
    "artist_name= response['tracks']['items'][0]['track']['artists'][0]['name']\n",
    "artist_name"
   ]
  },
  {
   "cell_type": "code",
   "execution_count": 10,
   "id": "357ecae0",
   "metadata": {},
   "outputs": [
    {
     "data": {
      "text/plain": [
       "'1Xyo4u8uXC1ZmMpatF05PJ'"
      ]
     },
     "execution_count": 10,
     "metadata": {},
     "output_type": "execute_result"
    }
   ],
   "source": [
    "artist_id= response['tracks']['items'][0]['track']['artists'][0]['id']\n",
    "artist_id"
   ]
  },
  {
   "cell_type": "code",
   "execution_count": 11,
   "id": "54184503",
   "metadata": {},
   "outputs": [
    {
     "data": {
      "text/plain": [
       "False"
      ]
     },
     "execution_count": 11,
     "metadata": {},
     "output_type": "execute_result"
    }
   ],
   "source": [
    "explicit= response['tracks']['items'][0]['track']['explicit']\n",
    "explicit"
   ]
  },
  {
   "cell_type": "code",
   "execution_count": 12,
   "id": "e7c7fe96",
   "metadata": {},
   "outputs": [
    {
     "data": {
      "text/plain": [
       "200040"
      ]
     },
     "execution_count": 12,
     "metadata": {},
     "output_type": "execute_result"
    }
   ],
   "source": [
    "response['tracks']['items'][0]['track']['duration_ms']"
   ]
  },
  {
   "cell_type": "code",
   "execution_count": 13,
   "id": "ef9324df",
   "metadata": {},
   "outputs": [
    {
     "data": {
      "text/plain": [
       "'Blinding Lights'"
      ]
     },
     "execution_count": 13,
     "metadata": {},
     "output_type": "execute_result"
    }
   ],
   "source": [
    "track_name= response['tracks']['items'][0]['track']['name']\n",
    "track_name"
   ]
  },
  {
   "cell_type": "code",
   "execution_count": 14,
   "id": "6c31ff2a",
   "metadata": {},
   "outputs": [
    {
     "data": {
      "text/plain": [
       "'0VjIjW4GlUZAMYd2vXMi3b'"
      ]
     },
     "execution_count": 14,
     "metadata": {},
     "output_type": "execute_result"
    }
   ],
   "source": [
    "track_id= response['tracks']['items'][0]['track']['id']\n",
    "track_id"
   ]
  },
  {
   "cell_type": "code",
   "execution_count": 15,
   "id": "7d0f88a4",
   "metadata": {},
   "outputs": [
    {
     "data": {
      "text/plain": [
       "'2020-03-20'"
      ]
     },
     "execution_count": 15,
     "metadata": {},
     "output_type": "execute_result"
    }
   ],
   "source": [
    "release_date= response['tracks']['items'][0]['track']['album']['release_date']\n",
    "release_date"
   ]
  },
  {
   "cell_type": "code",
   "execution_count": 1,
   "id": "93745dac",
   "metadata": {},
   "outputs": [
    {
     "ename": "NameError",
     "evalue": "name 'response' is not defined",
     "output_type": "error",
     "traceback": [
      "\u001b[0;31m---------------------------------------------------------------------------\u001b[0m",
      "\u001b[0;31mNameError\u001b[0m                                 Traceback (most recent call last)",
      "Cell \u001b[0;32mIn [1], line 1\u001b[0m\n\u001b[0;32m----> 1\u001b[0m \u001b[43mresponse\u001b[49m\n",
      "\u001b[0;31mNameError\u001b[0m: name 'response' is not defined"
     ]
    }
   ],
   "source": [
    "response"
   ]
  },
  {
   "cell_type": "code",
   "execution_count": 16,
   "id": "78416ffb",
   "metadata": {},
   "outputs": [],
   "source": [
    "track=[]\n",
    "\n",
    "\n",
    "for i in range (0,2):\n",
    "    data=[]\n",
    "    data.append(sp.playlist(pl_id)['tracks']['items'][i]['track']['id'])\n",
    "    data.append(sp.playlist(pl_id)['tracks']['items'][i]['track']['name'])\n",
    "    data.append(sp.playlist(pl_id)['tracks']['items'][i]['track']['popularity'])\n",
    "    data.append(sp.playlist(pl_id)['tracks']['items'][i]['track']['duration_ms'])\n",
    "    data.append(sp.playlist(pl_id)['tracks']['items'][i]['track']['explicit'])\n",
    "    data.append(sp.playlist(pl_id)['tracks']['items'][i]['track']['artists'][0]['name'])\n",
    "    data.append(sp.playlist(pl_id)['tracks']['items'][i]['track']['artists'][0]['id'])\n",
    "    data.append(sp.playlist(pl_id)['tracks']['items'][i]['track']['album']['release_date'])\n",
    "    \n",
    "    track.append(data)\n",
    "    "
   ]
  },
  {
   "cell_type": "code",
   "execution_count": 17,
   "id": "d46edc5f",
   "metadata": {},
   "outputs": [
    {
     "data": {
      "text/html": [
       "<div>\n",
       "<style scoped>\n",
       "    .dataframe tbody tr th:only-of-type {\n",
       "        vertical-align: middle;\n",
       "    }\n",
       "\n",
       "    .dataframe tbody tr th {\n",
       "        vertical-align: top;\n",
       "    }\n",
       "\n",
       "    .dataframe thead th {\n",
       "        text-align: right;\n",
       "    }\n",
       "</style>\n",
       "<table border=\"1\" class=\"dataframe\">\n",
       "  <thead>\n",
       "    <tr style=\"text-align: right;\">\n",
       "      <th></th>\n",
       "      <th>0</th>\n",
       "      <th>1</th>\n",
       "      <th>2</th>\n",
       "      <th>3</th>\n",
       "      <th>4</th>\n",
       "      <th>5</th>\n",
       "      <th>6</th>\n",
       "      <th>7</th>\n",
       "    </tr>\n",
       "  </thead>\n",
       "  <tbody>\n",
       "    <tr>\n",
       "      <th>0</th>\n",
       "      <td>0VjIjW4GlUZAMYd2vXMi3b</td>\n",
       "      <td>Blinding Lights</td>\n",
       "      <td>89</td>\n",
       "      <td>200040</td>\n",
       "      <td>False</td>\n",
       "      <td>The Weeknd</td>\n",
       "      <td>1Xyo4u8uXC1ZmMpatF05PJ</td>\n",
       "      <td>2020-03-20</td>\n",
       "    </tr>\n",
       "    <tr>\n",
       "      <th>1</th>\n",
       "      <td>7qiZfU4dY1lWllzX7mPBI3</td>\n",
       "      <td>Shape of You</td>\n",
       "      <td>85</td>\n",
       "      <td>233712</td>\n",
       "      <td>False</td>\n",
       "      <td>Ed Sheeran</td>\n",
       "      <td>6eUKZXaKkcviH0Ku9w2n3V</td>\n",
       "      <td>2017-03-03</td>\n",
       "    </tr>\n",
       "  </tbody>\n",
       "</table>\n",
       "</div>"
      ],
      "text/plain": [
       "                        0                1   2       3      4           5  \\\n",
       "0  0VjIjW4GlUZAMYd2vXMi3b  Blinding Lights  89  200040  False  The Weeknd   \n",
       "1  7qiZfU4dY1lWllzX7mPBI3     Shape of You  85  233712  False  Ed Sheeran   \n",
       "\n",
       "                        6           7  \n",
       "0  1Xyo4u8uXC1ZmMpatF05PJ  2020-03-20  \n",
       "1  6eUKZXaKkcviH0Ku9w2n3V  2017-03-03  "
      ]
     },
     "execution_count": 17,
     "metadata": {},
     "output_type": "execute_result"
    }
   ],
   "source": [
    "pd.DataFrame(track)"
   ]
  },
  {
   "cell_type": "code",
   "execution_count": 18,
   "id": "25dd91e9",
   "metadata": {},
   "outputs": [],
   "source": [
    "data=[]\n",
    "\n",
    "\n",
    "for i in range (0,10):\n",
    "    tracks=[]\n",
    "    tracks.append(sp.playlist(pl_id)['tracks']['items'][i]['track']['id'])\n",
    "    tracks.append(sp.playlist(pl_id)['tracks']['items'][i]['track']['name'])\n",
    "    tracks.append(sp.playlist(pl_id)['tracks']['items'][i]['track']['popularity'])\n",
    "    tracks.append(sp.playlist(pl_id)['tracks']['items'][i]['track']['duration_ms'])\n",
    "    tracks.append(sp.playlist(pl_id)['tracks']['items'][i]['track']['explicit'])\n",
    "    tracks.append(sp.playlist(pl_id)['tracks']['items'][i]['track']['artists'][0]['name'])\n",
    "    tracks.append(sp.playlist(pl_id)['tracks']['items'][i]['track']['artists'][0]['id'])\n",
    "    tracks.append(sp.playlist(pl_id)['tracks']['items'][i]['track']['album']['release_date'])\n",
    "    \n",
    "    data.append(tracks)"
   ]
  },
  {
   "cell_type": "code",
   "execution_count": 19,
   "id": "59810e81",
   "metadata": {},
   "outputs": [
    {
     "data": {
      "text/html": [
       "<div>\n",
       "<style scoped>\n",
       "    .dataframe tbody tr th:only-of-type {\n",
       "        vertical-align: middle;\n",
       "    }\n",
       "\n",
       "    .dataframe tbody tr th {\n",
       "        vertical-align: top;\n",
       "    }\n",
       "\n",
       "    .dataframe thead th {\n",
       "        text-align: right;\n",
       "    }\n",
       "</style>\n",
       "<table border=\"1\" class=\"dataframe\">\n",
       "  <thead>\n",
       "    <tr style=\"text-align: right;\">\n",
       "      <th></th>\n",
       "      <th>track_id</th>\n",
       "      <th>track_name</th>\n",
       "      <th>popularity</th>\n",
       "      <th>duration_ms</th>\n",
       "      <th>explicit</th>\n",
       "      <th>artist_name</th>\n",
       "      <th>artist_id</th>\n",
       "      <th>release_date</th>\n",
       "    </tr>\n",
       "  </thead>\n",
       "  <tbody>\n",
       "    <tr>\n",
       "      <th>0</th>\n",
       "      <td>0VjIjW4GlUZAMYd2vXMi3b</td>\n",
       "      <td>Blinding Lights</td>\n",
       "      <td>89</td>\n",
       "      <td>200040</td>\n",
       "      <td>False</td>\n",
       "      <td>The Weeknd</td>\n",
       "      <td>1Xyo4u8uXC1ZmMpatF05PJ</td>\n",
       "      <td>2020-03-20</td>\n",
       "    </tr>\n",
       "    <tr>\n",
       "      <th>1</th>\n",
       "      <td>7qiZfU4dY1lWllzX7mPBI3</td>\n",
       "      <td>Shape of You</td>\n",
       "      <td>85</td>\n",
       "      <td>233712</td>\n",
       "      <td>False</td>\n",
       "      <td>Ed Sheeran</td>\n",
       "      <td>6eUKZXaKkcviH0Ku9w2n3V</td>\n",
       "      <td>2017-03-03</td>\n",
       "    </tr>\n",
       "    <tr>\n",
       "      <th>2</th>\n",
       "      <td>2XU0oxnq2qxCpomAAuJY8K</td>\n",
       "      <td>Dance Monkey</td>\n",
       "      <td>76</td>\n",
       "      <td>209438</td>\n",
       "      <td>False</td>\n",
       "      <td>Tones And I</td>\n",
       "      <td>2NjfBq1NflQcKSeiDooVjY</td>\n",
       "      <td>2019-10-17</td>\n",
       "    </tr>\n",
       "    <tr>\n",
       "      <th>3</th>\n",
       "      <td>7qEHsqek33rTcFNT9PFqLf</td>\n",
       "      <td>Someone You Loved</td>\n",
       "      <td>86</td>\n",
       "      <td>182160</td>\n",
       "      <td>False</td>\n",
       "      <td>Lewis Capaldi</td>\n",
       "      <td>4GNC7GD6oZMSxPGyXy4MNB</td>\n",
       "      <td>2019-05-17</td>\n",
       "    </tr>\n",
       "    <tr>\n",
       "      <th>4</th>\n",
       "      <td>7wGoVu4Dady5GV0Sv4UIsx</td>\n",
       "      <td>rockstar</td>\n",
       "      <td>0</td>\n",
       "      <td>218320</td>\n",
       "      <td>True</td>\n",
       "      <td>Post Malone</td>\n",
       "      <td>246dkjvS1zLTtiykXe5h60</td>\n",
       "      <td>2017-09-15</td>\n",
       "    </tr>\n",
       "    <tr>\n",
       "      <th>5</th>\n",
       "      <td>3KkXRkHbMCARz0aVfEt68P</td>\n",
       "      <td>Sunflower - Spider-Man: Into the Spider-Verse</td>\n",
       "      <td>80</td>\n",
       "      <td>158040</td>\n",
       "      <td>False</td>\n",
       "      <td>Post Malone</td>\n",
       "      <td>246dkjvS1zLTtiykXe5h60</td>\n",
       "      <td>2018-12-14</td>\n",
       "    </tr>\n",
       "    <tr>\n",
       "      <th>6</th>\n",
       "      <td>1xznGGDReH1oQq0xzbwXa3</td>\n",
       "      <td>One Dance</td>\n",
       "      <td>0</td>\n",
       "      <td>173986</td>\n",
       "      <td>False</td>\n",
       "      <td>Drake</td>\n",
       "      <td>3TVXtAsR1Inumwj472S9r4</td>\n",
       "      <td>2016-05-06</td>\n",
       "    </tr>\n",
       "    <tr>\n",
       "      <th>7</th>\n",
       "      <td>7BKLCZ1jbUBVqRi2FVlTVw</td>\n",
       "      <td>Closer</td>\n",
       "      <td>83</td>\n",
       "      <td>244960</td>\n",
       "      <td>False</td>\n",
       "      <td>The Chainsmokers</td>\n",
       "      <td>69GGBxA162lTqCwzJG5jLp</td>\n",
       "      <td>2016-07-29</td>\n",
       "    </tr>\n",
       "    <tr>\n",
       "      <th>8</th>\n",
       "      <td>5PjdY0CKGZdEuoNab3yDmX</td>\n",
       "      <td>STAY (with Justin Bieber)</td>\n",
       "      <td>63</td>\n",
       "      <td>141805</td>\n",
       "      <td>True</td>\n",
       "      <td>The Kid LAROI</td>\n",
       "      <td>2tIP7SsRs7vjIcLrU85W8J</td>\n",
       "      <td>2021-07-23</td>\n",
       "    </tr>\n",
       "    <tr>\n",
       "      <th>9</th>\n",
       "      <td>0CcQNd8CINkwQfe1RDtGV6</td>\n",
       "      <td>Believer</td>\n",
       "      <td>0</td>\n",
       "      <td>204346</td>\n",
       "      <td>False</td>\n",
       "      <td>Imagine Dragons</td>\n",
       "      <td>53XhwfbYqKCa1cC15pYq2q</td>\n",
       "      <td>2017-06-23</td>\n",
       "    </tr>\n",
       "  </tbody>\n",
       "</table>\n",
       "</div>"
      ],
      "text/plain": [
       "                 track_id                                     track_name  \\\n",
       "0  0VjIjW4GlUZAMYd2vXMi3b                                Blinding Lights   \n",
       "1  7qiZfU4dY1lWllzX7mPBI3                                   Shape of You   \n",
       "2  2XU0oxnq2qxCpomAAuJY8K                                   Dance Monkey   \n",
       "3  7qEHsqek33rTcFNT9PFqLf                              Someone You Loved   \n",
       "4  7wGoVu4Dady5GV0Sv4UIsx                                       rockstar   \n",
       "5  3KkXRkHbMCARz0aVfEt68P  Sunflower - Spider-Man: Into the Spider-Verse   \n",
       "6  1xznGGDReH1oQq0xzbwXa3                                      One Dance   \n",
       "7  7BKLCZ1jbUBVqRi2FVlTVw                                         Closer   \n",
       "8  5PjdY0CKGZdEuoNab3yDmX                      STAY (with Justin Bieber)   \n",
       "9  0CcQNd8CINkwQfe1RDtGV6                                       Believer   \n",
       "\n",
       "   popularity  duration_ms  explicit       artist_name  \\\n",
       "0          89       200040     False        The Weeknd   \n",
       "1          85       233712     False        Ed Sheeran   \n",
       "2          76       209438     False       Tones And I   \n",
       "3          86       182160     False     Lewis Capaldi   \n",
       "4           0       218320      True       Post Malone   \n",
       "5          80       158040     False       Post Malone   \n",
       "6           0       173986     False             Drake   \n",
       "7          83       244960     False  The Chainsmokers   \n",
       "8          63       141805      True     The Kid LAROI   \n",
       "9           0       204346     False   Imagine Dragons   \n",
       "\n",
       "                artist_id release_date  \n",
       "0  1Xyo4u8uXC1ZmMpatF05PJ   2020-03-20  \n",
       "1  6eUKZXaKkcviH0Ku9w2n3V   2017-03-03  \n",
       "2  2NjfBq1NflQcKSeiDooVjY   2019-10-17  \n",
       "3  4GNC7GD6oZMSxPGyXy4MNB   2019-05-17  \n",
       "4  246dkjvS1zLTtiykXe5h60   2017-09-15  \n",
       "5  246dkjvS1zLTtiykXe5h60   2018-12-14  \n",
       "6  3TVXtAsR1Inumwj472S9r4   2016-05-06  \n",
       "7  69GGBxA162lTqCwzJG5jLp   2016-07-29  \n",
       "8  2tIP7SsRs7vjIcLrU85W8J   2021-07-23  \n",
       "9  53XhwfbYqKCa1cC15pYq2q   2017-06-23  "
      ]
     },
     "execution_count": 19,
     "metadata": {},
     "output_type": "execute_result"
    }
   ],
   "source": [
    "df= pd.DataFrame(data, columns=['track_id', 'track_name', 'popularity', 'duration_ms', 'explicit', 'artist_name', 'artist_id', 'release_date'])\n",
    "df"
   ]
  },
  {
   "cell_type": "code",
   "execution_count": 20,
   "id": "bfb06c5d",
   "metadata": {},
   "outputs": [],
   "source": [
    "track_id=df['track_id']\n",
    "track_name= df['track_name']\n",
    "popularity= df['popularity']\n",
    "duration_ms= df['duration_ms']\n",
    "explicit= df['explicit']\n",
    "artist_name= df['artist_name']\n",
    "artist_id= df['artist_id']\n",
    "release_date= df['release_date']"
   ]
  },
  {
   "cell_type": "markdown",
   "id": "54d148fc",
   "metadata": {
    "heading_collapsed": true
   },
   "source": [
    "## from a track id "
   ]
  },
  {
   "cell_type": "code",
   "execution_count": null,
   "id": "f059be1d",
   "metadata": {
    "hidden": true
   },
   "outputs": [],
   "source": [
    "urn = 'spotify:track:0VjIjW4GlUZAMYd2vXMi3b'\n",
    "\n",
    "sp = spotipy.Spotify(client_credentials_manager=SpotifyClientCredentials(client_id='1405704167ff4cacb7a327c52b338798', client_secret='f8a944f48f714824947bb382fedadb88'))\n",
    "\n",
    "track = sp.track(urn)\n",
    "pprint(track)"
   ]
  },
  {
   "cell_type": "code",
   "execution_count": null,
   "id": "9af9bcd4",
   "metadata": {
    "hidden": true
   },
   "outputs": [],
   "source": [
    "sp.track(urn).keys()"
   ]
  },
  {
   "cell_type": "code",
   "execution_count": null,
   "id": "fa578604",
   "metadata": {
    "hidden": true
   },
   "outputs": [],
   "source": [
    "sp.track(urn)['track_number']"
   ]
  },
  {
   "cell_type": "code",
   "execution_count": null,
   "id": "419c3c3c",
   "metadata": {
    "hidden": true
   },
   "outputs": [],
   "source": [
    "preview_url= sp.track(urn)['preview_url']\n",
    "preview_url"
   ]
  },
  {
   "cell_type": "code",
   "execution_count": null,
   "id": "0593ed96",
   "metadata": {
    "hidden": true
   },
   "outputs": [],
   "source": [
    "sp.track(urn)['album']['images'][0]['url']"
   ]
  },
  {
   "cell_type": "markdown",
   "id": "3e801f06",
   "metadata": {},
   "source": [
    "## Features from Looping"
   ]
  },
  {
   "cell_type": "code",
   "execution_count": null,
   "id": "ad7656e1",
   "metadata": {},
   "outputs": [],
   "source": [
    "track_id= [sp.playlist(pl_id)['tracks']['items'][i]['track']['id'] for i in range(len(sp.playlist(pl_id)['tracks']['items']))]"
   ]
  },
  {
   "cell_type": "code",
   "execution_count": null,
   "id": "ef9862f1",
   "metadata": {},
   "outputs": [],
   "source": [
    "name= [sp.playlist(pl_id)['tracks']['items'][i]['track']['name'] for i in range(len(sp.playlist(pl_id)['tracks']['items']))]"
   ]
  },
  {
   "cell_type": "code",
   "execution_count": null,
   "id": "f938120c",
   "metadata": {},
   "outputs": [],
   "source": [
    "popularity= [sp.playlist(pl_id)['tracks']['items'][i]['track']['popularity'] for i in range(len(sp.playlist(pl_id)['tracks']['items']))]"
   ]
  },
  {
   "cell_type": "code",
   "execution_count": null,
   "id": "5152fa8b",
   "metadata": {},
   "outputs": [],
   "source": [
    "duration_ms= [sp.playlist(pl_id)['tracks']['items'][i]['track']['duration_ms'] for i in range(len(sp.playlist(pl_id)['tracks']['items']))]"
   ]
  },
  {
   "cell_type": "code",
   "execution_count": null,
   "id": "4be1b7a0",
   "metadata": {},
   "outputs": [],
   "source": [
    "explicit= [sp.playlist(pl_id)['tracks']['items'][i]['track']['explicit'] for i in range(len(sp.playlist(pl_id)['tracks']['items']))]"
   ]
  },
  {
   "cell_type": "code",
   "execution_count": null,
   "id": "31d8c34c",
   "metadata": {},
   "outputs": [],
   "source": [
    "artist_name= [sp.playlist(pl_id)['tracks']['items'][i]['track']['artists'][0]['name'] for i in range(len(sp.playlist(pl_id)['tracks']['items']))]"
   ]
  },
  {
   "cell_type": "code",
   "execution_count": null,
   "id": "ba0307b6",
   "metadata": {},
   "outputs": [],
   "source": [
    "artist_id= [sp.playlist(pl_id)['tracks']['items'][i]['track']['artists'][0]['id'] for i in range(len(sp.playlist(pl_id)['tracks']['items']))]"
   ]
  },
  {
   "cell_type": "code",
   "execution_count": null,
   "id": "6de1703a",
   "metadata": {},
   "outputs": [],
   "source": [
    "release_date= [sp.playlist(pl_id)['tracks']['items'][i]['track']['album']['release_date'] for i in range(len(sp.playlist(pl_id)['tracks']['items']))]"
   ]
  },
  {
   "cell_type": "code",
   "execution_count": null,
   "id": "6d96a589",
   "metadata": {},
   "outputs": [],
   "source": [
    "df= pd.DataFrame({'track_id': track_id,\n",
    "                  'track_name': name,\n",
    "                  'popularity': popularity,\n",
    "                  'duration_ms': duration_ms,\n",
    "                  'explicit': explicit,\n",
    "                  'artist_name': artist_name,\n",
    "                  'artist_id': artist_id,\n",
    "                  'release_date': release_date},\n",
    "                  columns=['track_id','track_name','popularity','duration_ms','explicit','artist_name','artist_id','release_date'])\n",
    "df"
   ]
  },
  {
   "cell_type": "code",
   "execution_count": null,
   "id": "79d1b1aa",
   "metadata": {},
   "outputs": [],
   "source": [
    "# Track audio features"
   ]
  },
  {
   "cell_type": "code",
   "execution_count": null,
   "id": "165a9840",
   "metadata": {},
   "outputs": [],
   "source": [
    "track_id = 'spotify:track:7MXVkk9YMctZqd1Srtv4MB'\n",
    "\n",
    "\n",
    "analysis = sp.audio_features(track_id)\n",
    "print(json.dumps(analysis, indent=4))"
   ]
  },
  {
   "cell_type": "code",
   "execution_count": null,
   "id": "5f97dc6a",
   "metadata": {},
   "outputs": [],
   "source": [
    "sp.audio_features(track_id)[0].keys()"
   ]
  },
  {
   "cell_type": "code",
   "execution_count": null,
   "id": "9a2bc567",
   "metadata": {},
   "outputs": [],
   "source": [
    "sp.audio_features(track_id)[0]['danceability']"
   ]
  },
  {
   "cell_type": "code",
   "execution_count": null,
   "id": "6b5d8137",
   "metadata": {},
   "outputs": [],
   "source": [
    "track_id = 'spotify:track:7MXVkk9YMctZqd1Srtv4MB'\n",
    "\n",
    "audio=[]\n",
    "for j in range(0, 10):\n",
    "    track_audio=[]\n",
    "    track_audio.append(sp.audio_features(track_id)[0]['id'])\n",
    "    track_audio.append(sp.audio_features(track_id)[0]['danceability'])\n",
    "    track_audio.append(sp.audio_features(track_id)[0]['energy'])\n",
    "    track_audio.append(sp.audio_features(track_id)[0]['key'])\n",
    "    track_audio.append(sp.audio_features(track_id)[0]['loudness'])\n",
    "    track_audio.append(sp.audio_features(track_id)[0]['mode'])\n",
    "    track_audio.append(sp.audio_features(track_id)[0]['speechiness'])\n",
    "    track_audio.append(sp.audio_features(track_id)[0]['acousticness'])\n",
    "    track_audio.append(sp.audio_features(track_id)[0]['instrumentalness'])\n",
    "    track_audio.append(sp.audio_features(track_id)[0]['liveness'])\n",
    "    track_audio.append(sp.audio_features(track_id)[0]['valence'])\n",
    "    track_audio.append(sp.audio_features(track_id)[0]['tempo'])\n",
    "    \n",
    "    audio.append(track_audio)"
   ]
  },
  {
   "cell_type": "code",
   "execution_count": null,
   "id": "f7e9ab06",
   "metadata": {},
   "outputs": [],
   "source": [
    "sp.playlist(pl_id)['tracks']['items'][1]['track']['id']"
   ]
  },
  {
   "cell_type": "code",
   "execution_count": null,
   "id": "809f66fe",
   "metadata": {},
   "outputs": [],
   "source": []
  },
  {
   "cell_type": "code",
   "execution_count": null,
   "id": "ff5a6b78",
   "metadata": {},
   "outputs": [],
   "source": [
    "\n",
    "pl_id = 'spotify:playlist:5ABHKGoOzxkaa28ttQV9sE'\n",
    "playlist= sp.playlist(pl_id)\n",
    "\n",
    "track_id=[]\n",
    "\n",
    "\n",
    "for i in range(0,10):\n",
    "    track_id.append(sp.playlist(pl_id)['tracks']['items'][i]['track']['id'])\n",
    "track_id\n"
   ]
  },
  {
   "cell_type": "code",
   "execution_count": null,
   "id": "9e7ba977",
   "metadata": {},
   "outputs": [],
   "source": [
    "df_audio= pd.DataFrame(audio, columns=['track_id','danceability','energy','key','loudness', 'mode', 'speechiness','acousticness','instrumentalness','liveness', 'valence', 'tempo'])\n",
    "df_audio"
   ]
  },
  {
   "cell_type": "code",
   "execution_count": null,
   "id": "61ebfa9e",
   "metadata": {},
   "outputs": [],
   "source": [
    "danceability= df_audio['danceability']\n",
    "energy= df_audio['energy']\n",
    "key= df_audio['key']\n",
    "loudness= df_audio['loudness']\n",
    "mode= df_audio['mode']\n",
    "speechiness= df_audio['speechiness']\n",
    "acousticness= df_audio['acousticness']\n",
    "instrumentalness= df_audio['instrumentalness']\n",
    "liveness= df_audio['liveness']\n",
    "valence= df_audio['valence']\n",
    "tempo= df_audio['tempo']"
   ]
  },
  {
   "cell_type": "code",
   "execution_count": 7,
   "id": "0b81531f",
   "metadata": {},
   "outputs": [
    {
     "ename": "NameError",
     "evalue": "name 'df' is not defined",
     "output_type": "error",
     "traceback": [
      "\u001b[0;31m---------------------------------------------------------------------------\u001b[0m",
      "\u001b[0;31mNameError\u001b[0m                                 Traceback (most recent call last)",
      "Cell \u001b[0;32mIn [7], line 3\u001b[0m\n\u001b[1;32m      1\u001b[0m tracks\u001b[38;5;241m=\u001b[39m[]\n\u001b[0;32m----> 3\u001b[0m \u001b[38;5;28;01mfor\u001b[39;00m track_id \u001b[38;5;129;01min\u001b[39;00m \u001b[43mdf\u001b[49m\u001b[38;5;241m.\u001b[39mloc[:, \u001b[38;5;124m'\u001b[39m\u001b[38;5;124mtrack_id\u001b[39m\u001b[38;5;124m'\u001b[39m]:\n\u001b[1;32m      4\u001b[0m     track\u001b[38;5;241m=\u001b[39m\u001b[38;5;124mf\u001b[39m\u001b[38;5;124m'\u001b[39m\u001b[38;5;124mspotify:track:\u001b[39m\u001b[38;5;132;01m{\u001b[39;00mtrack_id\u001b[38;5;132;01m}\u001b[39;00m\u001b[38;5;124m'\u001b[39m\n\u001b[1;32m      5\u001b[0m     audio_features\u001b[38;5;241m=\u001b[39m sp\u001b[38;5;241m.\u001b[39maudio_features(track)\n",
      "\u001b[0;31mNameError\u001b[0m: name 'df' is not defined"
     ]
    }
   ],
   "source": [
    "tracks=[]\n",
    "\n",
    "for track_id in df.loc[:, 'track_id']:\n",
    "    track=f'spotify:track:{track_id}'\n",
    "    audio_features= sp.audio_features(track)\n",
    "    tracks.append(audio_features[0])"
   ]
  },
  {
   "cell_type": "code",
   "execution_count": null,
   "id": "bc89d1df",
   "metadata": {},
   "outputs": [],
   "source": [
    "df_audio= pd.DataFrame(tracks)\n",
    "df_audio"
   ]
  },
  {
   "cell_type": "code",
   "execution_count": null,
   "id": "46355689",
   "metadata": {},
   "outputs": [],
   "source": [
    "df_audio= df_audio.drop(['type','uri', 'track_href', 'analysis_url', 'duration_ms', 'time_signature'], axis=1)"
   ]
  },
  {
   "cell_type": "code",
   "execution_count": null,
   "id": "27b4f612",
   "metadata": {},
   "outputs": [],
   "source": [
    "df_audio= df_audio.rename(columns={\"id\": \"track_id\"})\n",
    "df_audio"
   ]
  },
  {
   "cell_type": "markdown",
   "id": "66aa8b27",
   "metadata": {},
   "source": [
    "# Combining the 2 df"
   ]
  },
  {
   "cell_type": "code",
   "execution_count": null,
   "id": "e63994a0",
   "metadata": {},
   "outputs": [],
   "source": [
    "df"
   ]
  },
  {
   "cell_type": "code",
   "execution_count": null,
   "id": "d77cde3b",
   "metadata": {},
   "outputs": [],
   "source": [
    "df_audio"
   ]
  },
  {
   "cell_type": "code",
   "execution_count": null,
   "id": "7ad3c309",
   "metadata": {},
   "outputs": [],
   "source": [
    "spotify_df= df.merge(df_audio, on='track_id')\n",
    "spotify_df"
   ]
  },
  {
   "cell_type": "markdown",
   "id": "8176d660",
   "metadata": {},
   "source": [
    "# Adding audio preview"
   ]
  },
  {
   "cell_type": "code",
   "execution_count": null,
   "id": "f935a48f",
   "metadata": {
    "scrolled": true
   },
   "outputs": [],
   "source": [
    "# lz_uri = 'spotify:artist:0IVcLMMbm05VIjnzPkGCyp' # J Dilla\n",
    "# lz_uri = 'spotify:artist:6P7H3ai06vU1sGvdpBwDmE'# Steele Dan\n",
    "lz_uri = 'spotify:artist:0kbYTNQb4Pb1rPbbaF0pT4'# Miles Davis\n",
    "\n",
    "sp = spotipy.Spotify(client_credentials_manager=SpotifyClientCredentials(client_id= client_id, client_secret= client_secret))\n",
    "results = sp.artist_top_tracks(lz_uri)\n",
    "\n",
    "\n",
    "for track in results['tracks'][:2]:\n",
    "    print('track    : ' + track['name'])\n",
    "    if track['preview_url']:\n",
    "      print('audio    : ' + track['preview_url'])\n",
    "      #file = wget.download(track['preview_url'])\n",
    "    else:\n",
    "      print('### no audio preview available ###')\n",
    "    print('cover art: ' + track['album']['images'][0]['url'])\n",
    "    print()"
   ]
  },
  {
   "cell_type": "code",
   "execution_count": null,
   "id": "a372600c",
   "metadata": {},
   "outputs": [],
   "source": [
    "results"
   ]
  },
  {
   "cell_type": "code",
   "execution_count": null,
   "id": "2b6424bf",
   "metadata": {},
   "outputs": [],
   "source": [
    "data"
   ]
  },
  {
   "cell_type": "code",
   "execution_count": null,
   "id": "bc700380",
   "metadata": {},
   "outputs": [],
   "source": [
    "sp.track(urn).keys()"
   ]
  },
  {
   "cell_type": "code",
   "execution_count": null,
   "id": "692e95ff",
   "metadata": {},
   "outputs": [],
   "source": [
    "urn= \n",
    "sp.track(urn)['preview_url']"
   ]
  },
  {
   "cell_type": "code",
   "execution_count": null,
   "id": "68dda107",
   "metadata": {},
   "outputs": [],
   "source": [
    "previews=[]\n",
    "\n",
    "for track_id in df.loc[:, 'track_id']:\n",
    "    urn=f'spotify:track:{track_id}'\n",
    "    if sp.track(urn)['preview_url']:\n",
    "        preview_url= sp.track(urn)['preview_url']\n",
    "        previews.append(preview_url)\n",
    "    else:\n",
    "        previews.append('### no audio preview available ###')\n",
    "previews"
   ]
  },
  {
   "cell_type": "code",
   "execution_count": null,
   "id": "fba3b7e4",
   "metadata": {},
   "outputs": [],
   "source": [
    "preview_df= pd.DataFrame(previews, columns=['preview_url'])\n",
    "preview_df"
   ]
  },
  {
   "cell_type": "markdown",
   "id": "1950c26a",
   "metadata": {},
   "source": [
    "# Cover image"
   ]
  },
  {
   "cell_type": "code",
   "execution_count": null,
   "id": "6cce3229",
   "metadata": {},
   "outputs": [],
   "source": [
    "#Cover image with track_id\n",
    "if sp.track(urn)['album']['images'][0]['url']:\n",
    "    print('cover image: ' + sp.track(urn)['album']['images'][0]['url'])\n",
    "else:\n",
    "    print('### no cover image available ###')"
   ]
  },
  {
   "cell_type": "code",
   "execution_count": null,
   "id": "f19f1142",
   "metadata": {},
   "outputs": [],
   "source": []
  },
  {
   "cell_type": "code",
   "execution_count": null,
   "id": "4234e3f8",
   "metadata": {},
   "outputs": [],
   "source": [
    "covers=[]\n",
    "\n",
    "for track_id in df.loc[:, 'track_id']:\n",
    "    urn=f'spotify:track:{track_id}'\n",
    "    if sp.track(urn)['album']['images'][0]['url']:\n",
    "        cover_url= sp.track(urn)['album']['images'][0]['url']\n",
    "        covers.append(cover_url)\n",
    "    else:\n",
    "        covers.append('### no cover available ###')\n",
    "covers"
   ]
  },
  {
   "cell_type": "code",
   "execution_count": null,
   "id": "64fd0019",
   "metadata": {},
   "outputs": [],
   "source": [
    "covers_df= pd.DataFrame(covers, columns=['cover_url'])\n",
    "covers_df"
   ]
  },
  {
   "cell_type": "markdown",
   "id": "2db5c88a",
   "metadata": {},
   "source": [
    "# Combining all dataframes"
   ]
  },
  {
   "cell_type": "code",
   "execution_count": null,
   "id": "591e6317",
   "metadata": {},
   "outputs": [],
   "source": [
    "spotify_df"
   ]
  },
  {
   "cell_type": "code",
   "execution_count": null,
   "id": "485a7f9b",
   "metadata": {},
   "outputs": [],
   "source": [
    "top100_df = pd.concat([spotify_df, preview_df, covers_df ], axis=1)\n",
    "top100_df"
   ]
  },
  {
   "cell_type": "markdown",
   "id": "e1066a1a",
   "metadata": {},
   "source": [
    "# Export dataset to csv"
   ]
  },
  {
   "cell_type": "code",
   "execution_count": null,
   "id": "a47a976f",
   "metadata": {},
   "outputs": [],
   "source": [
    "top100_df.to_csv('top100_df.csv')"
   ]
  },
  {
   "cell_type": "markdown",
   "id": "ec9f7b2e",
   "metadata": {},
   "source": [
    "# Importing Kaggle dataset"
   ]
  },
  {
   "cell_type": "code",
   "execution_count": null,
   "id": "e7410af9",
   "metadata": {},
   "outputs": [],
   "source": [
    "kaggle = pd.read_csv(r'/Users/david/code/dmassonfr/Spotify_hit_predictor/raw_data/tracks.csv')\n",
    "print(kaggle)"
   ]
  },
  {
   "cell_type": "code",
   "execution_count": null,
   "id": "075f83c0",
   "metadata": {},
   "outputs": [],
   "source": [
    "kaggle_df= pd.DataFrame(kaggle)\n",
    "kaggle_df"
   ]
  },
  {
   "cell_type": "code",
   "execution_count": null,
   "id": "b8835ca5",
   "metadata": {},
   "outputs": [],
   "source": [
    "kaggle_df.drop(['time_signature'], axis=1)"
   ]
  },
  {
   "cell_type": "code",
   "execution_count": null,
   "id": "21f368dd",
   "metadata": {},
   "outputs": [],
   "source": [
    "kaggle_df= kaggle_df.rename(columns={\"id\": \"track_id\", \"name\": \"track_name\", \"artists\": \"artist_name\", \"id_artists\": \"artist_id\"})\n",
    "kaggle_df"
   ]
  },
  {
   "cell_type": "code",
   "execution_count": null,
   "id": "2fcaa8c1",
   "metadata": {},
   "outputs": [],
   "source": [
    "kaggle_df_short= kaggle_df[0:3]\n",
    "kaggle_df_short"
   ]
  },
  {
   "cell_type": "code",
   "execution_count": null,
   "id": "27fc5d1f",
   "metadata": {},
   "outputs": [],
   "source": [
    "previews=[]\n",
    "\n",
    "for track_id in kaggle_df_short.loc[:, 'track_id']:\n",
    "    urn=f'spotify:track:{track_id}'\n",
    "    if sp.track(urn)['preview_url']:\n",
    "        preview_url= sp.track(urn)['preview_url']\n",
    "        previews.append(preview_url)\n",
    "    else:\n",
    "        previews.append('### no audio preview available ###')\n",
    "previewss"
   ]
  },
  {
   "cell_type": "code",
   "execution_count": null,
   "id": "7fe2af68",
   "metadata": {},
   "outputs": [],
   "source": [
    "previews=[]\n",
    "\n",
    "for track_id in kaggle_df.loc[:, 'track_id']:\n",
    "    urn=f'spotify:track:{track_id}'\n",
    "    if sp.track(urn)['preview_url']:\n",
    "        print(f\"fetching preview for {track_id}\")\n",
    "        preview_url= sp.track(urn)['preview_url']\n",
    "        previews.append(preview_url)\n",
    "    else:\n",
    "        print(f\"fetching preview for {track_id}\")\n",
    "        previews.append('### no audio preview available ###')\n",
    "        \n",
    "#try with time sleep for the API to rest in between requests\n",
    "import time\n",
    "time.sleep(0.1)"
   ]
  },
  {
   "cell_type": "code",
   "execution_count": null,
   "id": "bf298633",
   "metadata": {},
   "outputs": [],
   "source": []
  },
  {
   "cell_type": "code",
   "execution_count": null,
   "id": "14cbbdb5",
   "metadata": {},
   "outputs": [],
   "source": [
    "covers=[]\n",
    "\n",
    "for track_id in kaggle_df_short.loc[:, 'track_id']:\n",
    "    urn=f'spotify:track:{track_id}'\n",
    "    if sp.track(urn)['album']['images'][0]['url']:\n",
    "        cover_url= sp.track(urn)['album']['images'][0]['url']\n",
    "        covers.append(cover_url)\n",
    "    else:\n",
    "        covers.append('### no cover available ###')\n",
    "covers"
   ]
  }
 ],
 "metadata": {
  "kernelspec": {
   "display_name": "Python 3 (ipykernel)",
   "language": "python",
   "name": "python3"
  },
  "language_info": {
   "codemirror_mode": {
    "name": "ipython",
    "version": 3
   },
   "file_extension": ".py",
   "mimetype": "text/x-python",
   "name": "python",
   "nbconvert_exporter": "python",
   "pygments_lexer": "ipython3",
   "version": "3.10.6"
  },
  "toc": {
   "base_numbering": 1,
   "nav_menu": {},
   "number_sections": true,
   "sideBar": true,
   "skip_h1_title": false,
   "title_cell": "Table of Contents",
   "title_sidebar": "Contents",
   "toc_cell": false,
   "toc_position": {},
   "toc_section_display": true,
   "toc_window_display": false
  }
 },
 "nbformat": 4,
 "nbformat_minor": 5
}
