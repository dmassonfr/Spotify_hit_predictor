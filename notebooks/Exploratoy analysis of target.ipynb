{
 "cells": [
  {
   "cell_type": "markdown",
   "id": "7119dd26",
   "metadata": {},
   "source": [
    "# Kaggle data preprocessing and tuning"
   ]
  },
  {
   "cell_type": "markdown",
   "id": "f1deba97",
   "metadata": {},
   "source": [
    "## Imports"
   ]
  },
  {
   "cell_type": "code",
   "execution_count": 2,
   "id": "660f17ee",
   "metadata": {},
   "outputs": [],
   "source": [
    "import pandas as pd\n",
    "import numpy as np\n",
    "import matplotlib.pyplot as plt\n",
    "import seaborn as sns"
   ]
  },
  {
   "cell_type": "code",
   "execution_count": 3,
   "id": "00cd298b",
   "metadata": {},
   "outputs": [],
   "source": [
    "tracks= pd.read_csv('~/code/dmassonfr/Spotify_hit_predictor/raw_data/tracks.csv')"
   ]
  },
  {
   "cell_type": "code",
   "execution_count": 4,
   "id": "ebfbce9a",
   "metadata": {},
   "outputs": [],
   "source": [
    "artists= pd.read_csv('~/code/dmassonfr/Spotify_hit_predictor/raw_data/artists.csv')"
   ]
  },
  {
   "cell_type": "code",
   "execution_count": 5,
   "id": "15039bf2",
   "metadata": {},
   "outputs": [
    {
     "data": {
      "text/html": [
       "<div>\n",
       "<style scoped>\n",
       "    .dataframe tbody tr th:only-of-type {\n",
       "        vertical-align: middle;\n",
       "    }\n",
       "\n",
       "    .dataframe tbody tr th {\n",
       "        vertical-align: top;\n",
       "    }\n",
       "\n",
       "    .dataframe thead th {\n",
       "        text-align: right;\n",
       "    }\n",
       "</style>\n",
       "<table border=\"1\" class=\"dataframe\">\n",
       "  <thead>\n",
       "    <tr style=\"text-align: right;\">\n",
       "      <th></th>\n",
       "      <th>id</th>\n",
       "      <th>name</th>\n",
       "      <th>popularity</th>\n",
       "      <th>duration_ms</th>\n",
       "      <th>explicit</th>\n",
       "      <th>artists</th>\n",
       "      <th>id_artists</th>\n",
       "      <th>release_date</th>\n",
       "      <th>danceability</th>\n",
       "      <th>energy</th>\n",
       "      <th>key</th>\n",
       "      <th>loudness</th>\n",
       "      <th>mode</th>\n",
       "      <th>speechiness</th>\n",
       "      <th>acousticness</th>\n",
       "      <th>instrumentalness</th>\n",
       "      <th>liveness</th>\n",
       "      <th>valence</th>\n",
       "      <th>tempo</th>\n",
       "      <th>time_signature</th>\n",
       "    </tr>\n",
       "  </thead>\n",
       "  <tbody>\n",
       "    <tr>\n",
       "      <th>586671</th>\n",
       "      <td>5Ocn6dZ3BJFPWh4ylwFXtn</td>\n",
       "      <td>Mar de Emociones</td>\n",
       "      <td>38</td>\n",
       "      <td>214360</td>\n",
       "      <td>0</td>\n",
       "      <td>['Afrosound']</td>\n",
       "      <td>['0i4Qda0k4nf7jnNHmSNpYv']</td>\n",
       "      <td>2015-07-01</td>\n",
       "      <td>0.686</td>\n",
       "      <td>0.723</td>\n",
       "      <td>6</td>\n",
       "      <td>-7.067</td>\n",
       "      <td>1</td>\n",
       "      <td>0.0363</td>\n",
       "      <td>0.105</td>\n",
       "      <td>0.0</td>\n",
       "      <td>0.264</td>\n",
       "      <td>0.975</td>\n",
       "      <td>112.204</td>\n",
       "      <td>4</td>\n",
       "    </tr>\n",
       "  </tbody>\n",
       "</table>\n",
       "</div>"
      ],
      "text/plain": [
       "                            id              name  popularity  duration_ms  \\\n",
       "586671  5Ocn6dZ3BJFPWh4ylwFXtn  Mar de Emociones          38       214360   \n",
       "\n",
       "        explicit        artists                  id_artists release_date  \\\n",
       "586671         0  ['Afrosound']  ['0i4Qda0k4nf7jnNHmSNpYv']   2015-07-01   \n",
       "\n",
       "        danceability  energy  key  loudness  mode  speechiness  acousticness  \\\n",
       "586671         0.686   0.723    6    -7.067     1       0.0363         0.105   \n",
       "\n",
       "        instrumentalness  liveness  valence    tempo  time_signature  \n",
       "586671               0.0     0.264    0.975  112.204               4  "
      ]
     },
     "execution_count": 5,
     "metadata": {},
     "output_type": "execute_result"
    }
   ],
   "source": [
    "tracks.tail(1)"
   ]
  },
  {
   "cell_type": "code",
   "execution_count": 6,
   "id": "75c7467f",
   "metadata": {},
   "outputs": [],
   "source": [
    "tracks['release_year'] = [int(i.split('-')[0]) for i in tracks['release_date']]"
   ]
  },
  {
   "cell_type": "code",
   "execution_count": 7,
   "id": "2c36f9ce",
   "metadata": {},
   "outputs": [],
   "source": [
    "tracks = tracks[tracks['speechiness']<0.66]"
   ]
  },
  {
   "cell_type": "markdown",
   "id": "b281ed82",
   "metadata": {},
   "source": [
    "# Datasets Analysis"
   ]
  },
  {
   "cell_type": "code",
   "execution_count": 8,
   "id": "464011d2",
   "metadata": {},
   "outputs": [],
   "source": [
    "popularity= tracks['popularity'].value_counts()"
   ]
  },
  {
   "cell_type": "code",
   "execution_count": 9,
   "id": "9d7d76f8",
   "metadata": {},
   "outputs": [
    {
     "data": {
      "image/png": "[encoded data removed]",
      "text/plain": [
       "<Figure size 640x480 with 1 Axes>"
      ]
     },
     "metadata": {},
     "output_type": "display_data"
    }
   ],
   "source": [
    "sns.histplot(tracks['popularity']);"
   ]
  },
  {
   "cell_type": "code",
   "execution_count": 10,
   "id": "7a275d15",
   "metadata": {},
   "outputs": [],
   "source": [
    "years= tracks['release_year'].value_counts()"
   ]
  },
  {
   "cell_type": "code",
   "execution_count": 11,
   "id": "03e4643c",
   "metadata": {
    "scrolled": true
   },
   "outputs": [
    {
     "data": {
      "image/png": "[encoded data removed]",
      "text/plain": [
       "<Figure size 640x480 with 1 Axes>"
      ]
     },
     "metadata": {},
     "output_type": "display_data"
    }
   ],
   "source": [
    "sns.histplot(tracks['release_year']);"
   ]
  },
  {
   "cell_type": "markdown",
   "id": "05c5fde0",
   "metadata": {},
   "source": [
    "## Analysing by Periods"
   ]
  },
  {
   "cell_type": "markdown",
   "id": "bc30b020",
   "metadata": {},
   "source": [
    "### Dividing the data by 10 periods"
   ]
  },
  {
   "cell_type": "code",
   "execution_count": 12,
   "id": "187b600a",
   "metadata": {},
   "outputs": [
    {
     "data": {
      "text/plain": [
       "56406"
      ]
     },
     "execution_count": 12,
     "metadata": {},
     "output_type": "execute_result"
    }
   ],
   "source": [
    "round(len(tracks)/10)"
   ]
  },
  {
   "cell_type": "code",
   "execution_count": 13,
   "id": "dde38a9c",
   "metadata": {},
   "outputs": [],
   "source": [
    "tracks= tracks.sort_values(by= 'release_year')"
   ]
  },
  {
   "cell_type": "code",
   "execution_count": 14,
   "id": "0c706193",
   "metadata": {},
   "outputs": [
    {
     "data": {
      "text/html": [
       "<div>\n",
       "<style scoped>\n",
       "    .dataframe tbody tr th:only-of-type {\n",
       "        vertical-align: middle;\n",
       "    }\n",
       "\n",
       "    .dataframe tbody tr th {\n",
       "        vertical-align: top;\n",
       "    }\n",
       "\n",
       "    .dataframe thead th {\n",
       "        text-align: right;\n",
       "    }\n",
       "</style>\n",
       "<table border=\"1\" class=\"dataframe\">\n",
       "  <thead>\n",
       "    <tr style=\"text-align: right;\">\n",
       "      <th></th>\n",
       "      <th>id</th>\n",
       "      <th>name</th>\n",
       "      <th>popularity</th>\n",
       "      <th>duration_ms</th>\n",
       "      <th>explicit</th>\n",
       "      <th>artists</th>\n",
       "      <th>id_artists</th>\n",
       "      <th>release_date</th>\n",
       "      <th>danceability</th>\n",
       "      <th>energy</th>\n",
       "      <th>...</th>\n",
       "      <th>loudness</th>\n",
       "      <th>mode</th>\n",
       "      <th>speechiness</th>\n",
       "      <th>acousticness</th>\n",
       "      <th>instrumentalness</th>\n",
       "      <th>liveness</th>\n",
       "      <th>valence</th>\n",
       "      <th>tempo</th>\n",
       "      <th>time_signature</th>\n",
       "      <th>release_year</th>\n",
       "    </tr>\n",
       "  </thead>\n",
       "  <tbody>\n",
       "    <tr>\n",
       "      <th>478627</th>\n",
       "      <td>74CSJTE5QQp1e4bHzm3wti</td>\n",
       "      <td>Maldita sea la primera vez</td>\n",
       "      <td>19</td>\n",
       "      <td>233920</td>\n",
       "      <td>0</td>\n",
       "      <td>['Los Pincheira del Sur']</td>\n",
       "      <td>['1BnQrx8p0bHBpidjIGq26z']</td>\n",
       "      <td>1900-01-01</td>\n",
       "      <td>0.659</td>\n",
       "      <td>0.791</td>\n",
       "      <td>...</td>\n",
       "      <td>-4.895</td>\n",
       "      <td>1</td>\n",
       "      <td>0.0295</td>\n",
       "      <td>0.139</td>\n",
       "      <td>0.000002</td>\n",
       "      <td>0.161</td>\n",
       "      <td>0.956</td>\n",
       "      <td>141.999</td>\n",
       "      <td>4</td>\n",
       "      <td>1900</td>\n",
       "    </tr>\n",
       "    <tr>\n",
       "      <th>132317</th>\n",
       "      <td>14uzVmei9VUtTXy3hpRD6D</td>\n",
       "      <td>Learn to do the strut</td>\n",
       "      <td>0</td>\n",
       "      <td>192279</td>\n",
       "      <td>0</td>\n",
       "      <td>['Vincent Lopez and his Orchestra', 'Vincent L...</td>\n",
       "      <td>['1NElogFmaZxxGVsKS6hvl2', '3wxzXhMAoYbpJDXtBx...</td>\n",
       "      <td>1922</td>\n",
       "      <td>0.368</td>\n",
       "      <td>0.332</td>\n",
       "      <td>...</td>\n",
       "      <td>-11.676</td>\n",
       "      <td>1</td>\n",
       "      <td>0.0398</td>\n",
       "      <td>0.996</td>\n",
       "      <td>0.929000</td>\n",
       "      <td>0.150</td>\n",
       "      <td>0.562</td>\n",
       "      <td>175.243</td>\n",
       "      <td>4</td>\n",
       "      <td>1922</td>\n",
       "    </tr>\n",
       "    <tr>\n",
       "      <th>132316</th>\n",
       "      <td>14DkYjtUoZZr3BSssBimYU</td>\n",
       "      <td>Rum and coca cola</td>\n",
       "      <td>1</td>\n",
       "      <td>186850</td>\n",
       "      <td>0</td>\n",
       "      <td>['Abe Lyman’s Orchestra', 'Abe Lyman']</td>\n",
       "      <td>['6LxnbCQ3ZrKj1lvC1lylS5', '3cNzWID6yZ1HN8qj4g...</td>\n",
       "      <td>1922</td>\n",
       "      <td>0.756</td>\n",
       "      <td>0.652</td>\n",
       "      <td>...</td>\n",
       "      <td>-5.056</td>\n",
       "      <td>0</td>\n",
       "      <td>0.0575</td>\n",
       "      <td>0.532</td>\n",
       "      <td>0.000000</td>\n",
       "      <td>0.666</td>\n",
       "      <td>0.941</td>\n",
       "      <td>91.478</td>\n",
       "      <td>4</td>\n",
       "      <td>1922</td>\n",
       "    </tr>\n",
       "    <tr>\n",
       "      <th>132315</th>\n",
       "      <td>12VN7yyLDADH7k5BJbyO3j</td>\n",
       "      <td>Good morning</td>\n",
       "      <td>0</td>\n",
       "      <td>168303</td>\n",
       "      <td>0</td>\n",
       "      <td>['Abe Lyman’s Orchestra', 'Abe Lyman']</td>\n",
       "      <td>['6LxnbCQ3ZrKj1lvC1lylS5', '3cNzWID6yZ1HN8qj4g...</td>\n",
       "      <td>1922</td>\n",
       "      <td>0.645</td>\n",
       "      <td>0.314</td>\n",
       "      <td>...</td>\n",
       "      <td>-5.161</td>\n",
       "      <td>1</td>\n",
       "      <td>0.0446</td>\n",
       "      <td>0.954</td>\n",
       "      <td>0.000032</td>\n",
       "      <td>0.286</td>\n",
       "      <td>0.765</td>\n",
       "      <td>170.844</td>\n",
       "      <td>4</td>\n",
       "      <td>1922</td>\n",
       "    </tr>\n",
       "    <tr>\n",
       "      <th>132314</th>\n",
       "      <td>0wG1anJSasIRZ8wu9vvYOC</td>\n",
       "      <td>My baby just cares for me</td>\n",
       "      <td>0</td>\n",
       "      <td>160000</td>\n",
       "      <td>0</td>\n",
       "      <td>['Isham Jones &amp; His Orchestra', 'Isham Jones']</td>\n",
       "      <td>['65A1WinXDUhVkZD98s8kKU', '4OWTlYl5kkhaZEsyjU...</td>\n",
       "      <td>1922</td>\n",
       "      <td>0.762</td>\n",
       "      <td>0.493</td>\n",
       "      <td>...</td>\n",
       "      <td>-7.148</td>\n",
       "      <td>1</td>\n",
       "      <td>0.0403</td>\n",
       "      <td>0.989</td>\n",
       "      <td>0.256000</td>\n",
       "      <td>0.162</td>\n",
       "      <td>0.863</td>\n",
       "      <td>98.832</td>\n",
       "      <td>4</td>\n",
       "      <td>1922</td>\n",
       "    </tr>\n",
       "  </tbody>\n",
       "</table>\n",
       "<p>5 rows × 21 columns</p>\n",
       "</div>"
      ],
      "text/plain": [
       "                            id                        name  popularity  \\\n",
       "478627  74CSJTE5QQp1e4bHzm3wti  Maldita sea la primera vez          19   \n",
       "132317  14uzVmei9VUtTXy3hpRD6D       Learn to do the strut           0   \n",
       "132316  14DkYjtUoZZr3BSssBimYU           Rum and coca cola           1   \n",
       "132315  12VN7yyLDADH7k5BJbyO3j                Good morning           0   \n",
       "132314  0wG1anJSasIRZ8wu9vvYOC   My baby just cares for me           0   \n",
       "\n",
       "        duration_ms  explicit  \\\n",
       "478627       233920         0   \n",
       "132317       192279         0   \n",
       "132316       186850         0   \n",
       "132315       168303         0   \n",
       "132314       160000         0   \n",
       "\n",
       "                                                  artists  \\\n",
       "478627                          ['Los Pincheira del Sur']   \n",
       "132317  ['Vincent Lopez and his Orchestra', 'Vincent L...   \n",
       "132316             ['Abe Lyman’s Orchestra', 'Abe Lyman']   \n",
       "132315             ['Abe Lyman’s Orchestra', 'Abe Lyman']   \n",
       "132314     ['Isham Jones & His Orchestra', 'Isham Jones']   \n",
       "\n",
       "                                               id_artists release_date  \\\n",
       "478627                         ['1BnQrx8p0bHBpidjIGq26z']   1900-01-01   \n",
       "132317  ['1NElogFmaZxxGVsKS6hvl2', '3wxzXhMAoYbpJDXtBx...         1922   \n",
       "132316  ['6LxnbCQ3ZrKj1lvC1lylS5', '3cNzWID6yZ1HN8qj4g...         1922   \n",
       "132315  ['6LxnbCQ3ZrKj1lvC1lylS5', '3cNzWID6yZ1HN8qj4g...         1922   \n",
       "132314  ['65A1WinXDUhVkZD98s8kKU', '4OWTlYl5kkhaZEsyjU...         1922   \n",
       "\n",
       "        danceability  energy  ...  loudness  mode  speechiness  acousticness  \\\n",
       "478627         0.659   0.791  ...    -4.895     1       0.0295         0.139   \n",
       "132317         0.368   0.332  ...   -11.676     1       0.0398         0.996   \n",
       "132316         0.756   0.652  ...    -5.056     0       0.0575         0.532   \n",
       "132315         0.645   0.314  ...    -5.161     1       0.0446         0.954   \n",
       "132314         0.762   0.493  ...    -7.148     1       0.0403         0.989   \n",
       "\n",
       "        instrumentalness  liveness  valence    tempo  time_signature  \\\n",
       "478627          0.000002     0.161    0.956  141.999               4   \n",
       "132317          0.929000     0.150    0.562  175.243               4   \n",
       "132316          0.000000     0.666    0.941   91.478               4   \n",
       "132315          0.000032     0.286    0.765  170.844               4   \n",
       "132314          0.256000     0.162    0.863   98.832               4   \n",
       "\n",
       "        release_year  \n",
       "478627          1900  \n",
       "132317          1922  \n",
       "132316          1922  \n",
       "132315          1922  \n",
       "132314          1922  \n",
       "\n",
       "[5 rows x 21 columns]"
      ]
     },
     "execution_count": 14,
     "metadata": {},
     "output_type": "execute_result"
    }
   ],
   "source": [
    "tracks.head()"
   ]
  },
  {
   "cell_type": "code",
   "execution_count": 15,
   "id": "48ded9d9",
   "metadata": {},
   "outputs": [],
   "source": [
    "# Splitting data into 10 samples\n",
    "tracks_1= tracks.iloc[:56406]\n",
    "tracks_2= tracks.iloc[56406:112812]\n",
    "tracks_3= tracks.iloc[112812:169218]\n",
    "tracks_4= tracks.iloc[169218:225624]\n",
    "tracks_5= tracks.iloc[225624:282030]\n",
    "tracks_6= tracks.iloc[282030:338436]\n",
    "tracks_7= tracks.iloc[338436:394842]\n",
    "tracks_8= tracks.iloc[394842:451248]\n",
    "tracks_9= tracks.iloc[451248:507654]\n",
    "tracks_10= tracks.iloc[507654:]"
   ]
  },
  {
   "cell_type": "code",
   "execution_count": 16,
   "id": "ebc3587f",
   "metadata": {},
   "outputs": [
    {
     "name": "stdout",
     "output_type": "stream",
     "text": [
      " Percentage of popular tracks in 1s sample: 2.3703152146934725%.\n",
      " Percentage of popular tracks in 2nd sample: 21.479984398822822%.\n",
      " Percentage of popular tracks in 3rd sample: 40.71198099492962%.\n",
      " Percentage of popular tracks in 4th sample: 46.58901535297663%.\n",
      " Percentage of popular tracks in 5th sample: 50.75346594333936%.\n",
      " Percentage of popular tracks in 6th sample: 59.71882423855618%.\n",
      " Percentage of popular tracks in 7th sample: 74.09495443747119%.\n",
      " Percentage of popular tracks in 8th sample: 80.75913909867745%.\n",
      " Percentage of popular tracks in 9th sample: 78.2239478069709%.\n",
      " Percentage of popular tracks in 10th sample: 77.94305368413588%.\n"
     ]
    }
   ],
   "source": [
    "print(f' Percentage of popular tracks in 1s sample: {float(len(tracks_1[tracks_1[\"popularity\"]>25]) / float(len(tracks_1)))*100}%.')\n",
    "print(f' Percentage of popular tracks in 2nd sample: {float(len(tracks_2[tracks_2[\"popularity\"]>25]) / float(len(tracks_2)))*100}%.')\n",
    "print(f' Percentage of popular tracks in 3rd sample: {float(len(tracks_3[tracks_3[\"popularity\"]>25]) / float(len(tracks_3)))*100}%.')\n",
    "print(f' Percentage of popular tracks in 4th sample: {float(len(tracks_4[tracks_4[\"popularity\"]>25]) / float(len(tracks_4)))*100}%.')\n",
    "print(f' Percentage of popular tracks in 5th sample: {float(len(tracks_5[tracks_5[\"popularity\"]>25]) / float(len(tracks_5)))*100}%.')\n",
    "print(f' Percentage of popular tracks in 6th sample: {float(len(tracks_6[tracks_6[\"popularity\"]>25]) / float(len(tracks_6))*100)}%.')\n",
    "print(f' Percentage of popular tracks in 7th sample: {float(len(tracks_7[tracks_7[\"popularity\"]>25]) / float(len(tracks_7)))*100}%.')\n",
    "print(f' Percentage of popular tracks in 8th sample: {float(len(tracks_8[tracks_8[\"popularity\"]>25]) / float(len(tracks_8)))*100}%.')\n",
    "print(f' Percentage of popular tracks in 9th sample: {float(len(tracks_9[tracks_9[\"popularity\"]>25]) / float(len(tracks_9)))*100}%.')\n",
    "print(f' Percentage of popular tracks in 10th sample: {float(len(tracks_10[tracks_10[\"popularity\"]>25]) / float(len(tracks_10)))*100}%.')"
   ]
  },
  {
   "cell_type": "code",
   "execution_count": 17,
   "id": "6a1bfeba",
   "metadata": {},
   "outputs": [
    {
     "name": "stdout",
     "output_type": "stream",
     "text": [
      " Percentage of popular tracks in 1s sample: 0.17551324327199233%.\n",
      " Percentage of popular tracks in 2nd sample: 2.2940821898379604%.\n",
      " Percentage of popular tracks in 3rd sample: 4.066943232989399%.\n",
      " Percentage of popular tracks in 4th sample: 4.706946069567067%.\n",
      " Percentage of popular tracks in 5th sample: 5.903627273694288%.\n",
      " Percentage of popular tracks in 6th sample: 6.9531610112399385%.\n",
      " Percentage of popular tracks in 7th sample: 12.723823706697868%.\n",
      " Percentage of popular tracks in 8th sample: 18.214374357337874%.\n",
      " Percentage of popular tracks in 9th sample: 23.802432365351205%.\n",
      " Percentage of popular tracks in 10th sample: 44.459612793418906%.\n"
     ]
    }
   ],
   "source": [
    "print(f' Percentage of popular tracks in 1s sample: {float(len(tracks_1[tracks_1[\"popularity\"]>50]) / float(len(tracks_1)))*100}%.')\n",
    "print(f' Percentage of popular tracks in 2nd sample: {float(len(tracks_2[tracks_2[\"popularity\"]>50]) / float(len(tracks_2)))*100}%.')\n",
    "print(f' Percentage of popular tracks in 3rd sample: {float(len(tracks_3[tracks_3[\"popularity\"]>50]) / float(len(tracks_3)))*100}%.')\n",
    "print(f' Percentage of popular tracks in 4th sample: {float(len(tracks_4[tracks_4[\"popularity\"]>50]) / float(len(tracks_4)))*100}%.')\n",
    "print(f' Percentage of popular tracks in 5th sample: {float(len(tracks_5[tracks_5[\"popularity\"]>50]) / float(len(tracks_5)))*100}%.')\n",
    "print(f' Percentage of popular tracks in 6th sample: {float(len(tracks_6[tracks_6[\"popularity\"]>50]) / float(len(tracks_6))*100)}%.')\n",
    "print(f' Percentage of popular tracks in 7th sample: {float(len(tracks_7[tracks_7[\"popularity\"]>50]) / float(len(tracks_7)))*100}%.')\n",
    "print(f' Percentage of popular tracks in 8th sample: {float(len(tracks_8[tracks_8[\"popularity\"]>50]) / float(len(tracks_8)))*100}%.')\n",
    "print(f' Percentage of popular tracks in 9th sample: {float(len(tracks_9[tracks_9[\"popularity\"]>50]) / float(len(tracks_9)))*100}%.')\n",
    "print(f' Percentage of popular tracks in 10th sample: {float(len(tracks_10[tracks_10[\"popularity\"]>50]) / float(len(tracks_10)))*100}%.')"
   ]
  },
  {
   "cell_type": "code",
   "execution_count": 18,
   "id": "865a0d86",
   "metadata": {},
   "outputs": [
    {
     "name": "stdout",
     "output_type": "stream",
     "text": [
      " Percentage of popular tracks in 1s sample: 0.0%.\n",
      " Percentage of popular tracks in 2nd sample: 0.04786724816508882%.\n",
      " Percentage of popular tracks in 3rd sample: 0.12055455093429776%.\n",
      " Percentage of popular tracks in 4th sample: 0.10814452363223771%.\n",
      " Percentage of popular tracks in 5th sample: 0.08332446902811758%.\n",
      " Percentage of popular tracks in 6th sample: 0.07977874694181471%.\n",
      " Percentage of popular tracks in 7th sample: 0.21274332517817254%.\n",
      " Percentage of popular tracks in 8th sample: 0.29784065524944153%.\n",
      " Percentage of popular tracks in 9th sample: 0.5850441442399745%.\n",
      " Percentage of popular tracks in 10th sample: 2.758669597900858%.\n"
     ]
    }
   ],
   "source": [
    "print(f' Percentage of popular tracks in 1s sample: {float(len(tracks_1[tracks_1[\"popularity\"]>75]) / float(len(tracks_1)))*100}%.')\n",
    "print(f' Percentage of popular tracks in 2nd sample: {float(len(tracks_2[tracks_2[\"popularity\"]>75]) / float(len(tracks_2)))*100}%.')\n",
    "print(f' Percentage of popular tracks in 3rd sample: {float(len(tracks_3[tracks_3[\"popularity\"]>75]) / float(len(tracks_3)))*100}%.')\n",
    "print(f' Percentage of popular tracks in 4th sample: {float(len(tracks_4[tracks_4[\"popularity\"]>75]) / float(len(tracks_4)))*100}%.')\n",
    "print(f' Percentage of popular tracks in 5th sample: {float(len(tracks_5[tracks_5[\"popularity\"]>75]) / float(len(tracks_5)))*100}%.')\n",
    "print(f' Percentage of popular tracks in 6th sample: {float(len(tracks_6[tracks_6[\"popularity\"]>75]) / float(len(tracks_6))*100)}%.')\n",
    "print(f' Percentage of popular tracks in 7th sample: {float(len(tracks_7[tracks_7[\"popularity\"]>75]) / float(len(tracks_7)))*100}%.')\n",
    "print(f' Percentage of popular tracks in 8th sample: {float(len(tracks_8[tracks_8[\"popularity\"]>75]) / float(len(tracks_8)))*100}%.')\n",
    "print(f' Percentage of popular tracks in 9th sample: {float(len(tracks_9[tracks_9[\"popularity\"]>75]) / float(len(tracks_9)))*100}%.')\n",
    "print(f' Percentage of popular tracks in 10th sample: {float(len(tracks_10[tracks_10[\"popularity\"]>75]) / float(len(tracks_10)))*100}%.')"
   ]
  },
  {
   "cell_type": "code",
   "execution_count": 60,
   "id": "7418e099",
   "metadata": {},
   "outputs": [],
   "source": [
    "#Listing the %'s of the different thresholds of the samples (over 25,50, 75 popularity)\n",
    "\n",
    "y=[[float(len(tracks_1[tracks_1[\"popularity\"]>25]) / float(len(tracks_1)))*100,\n",
    "float(len(tracks_2[tracks_2[\"popularity\"]>25]) / float(len(tracks_2)))*100,\n",
    "float(len(tracks_3[tracks_3[\"popularity\"]>25]) / float(len(tracks_3)))*100,\n",
    "float(len(tracks_4[tracks_4[\"popularity\"]>25]) / float(len(tracks_4)))*100,\n",
    "float(len(tracks_5[tracks_5[\"popularity\"]>25]) / float(len(tracks_5)))*100,\n",
    "float(len(tracks_6[tracks_6[\"popularity\"]>25]) / float(len(tracks_6)))*100,\n",
    "float(len(tracks_7[tracks_7[\"popularity\"]>25]) / float(len(tracks_7)))*100,\n",
    "float(len(tracks_8[tracks_8[\"popularity\"]>25]) / float(len(tracks_8)))*100,\n",
    "float(len(tracks_9[tracks_9[\"popularity\"]>25]) / float(len(tracks_9)))*100,\n",
    "float(len(tracks_10[tracks_10[\"popularity\"]>25]) / float(len(tracks_10)))*100],\n",
    "[float(len(tracks_1[tracks_1[\"popularity\"]>50]) / float(len(tracks_1)))*100,\n",
    "float(len(tracks_2[tracks_2[\"popularity\"]>50]) / float(len(tracks_2)))*100,\n",
    "float(len(tracks_3[tracks_3[\"popularity\"]>50]) / float(len(tracks_3)))*100,\n",
    "float(len(tracks_4[tracks_4[\"popularity\"]>50]) / float(len(tracks_4)))*100,\n",
    "float(len(tracks_5[tracks_5[\"popularity\"]>50]) / float(len(tracks_5)))*100,\n",
    "float(len(tracks_6[tracks_6[\"popularity\"]>50]) / float(len(tracks_6)))*100,\n",
    "float(len(tracks_7[tracks_7[\"popularity\"]>50]) / float(len(tracks_7)))*100,\n",
    "float(len(tracks_8[tracks_8[\"popularity\"]>50]) / float(len(tracks_8)))*100,\n",
    "float(len(tracks_9[tracks_9[\"popularity\"]>50]) / float(len(tracks_9)))*100,\n",
    "float(len(tracks_10[tracks_10[\"popularity\"]>50]) / float(len(tracks_10)))*100],\n",
    "[float(len(tracks_1[tracks_1[\"popularity\"]>75]) / float(len(tracks_1)))*100,\n",
    "float(len(tracks_2[tracks_2[\"popularity\"]>75]) / float(len(tracks_2)))*100,\n",
    "float(len(tracks_3[tracks_3[\"popularity\"]>75]) / float(len(tracks_3)))*100,\n",
    "float(len(tracks_4[tracks_4[\"popularity\"]>75]) / float(len(tracks_4)))*100,\n",
    "float(len(tracks_5[tracks_5[\"popularity\"]>75]) / float(len(tracks_5)))*100,\n",
    "float(len(tracks_6[tracks_6[\"popularity\"]>75]) / float(len(tracks_6)))*100,\n",
    "float(len(tracks_7[tracks_7[\"popularity\"]>75]) / float(len(tracks_7)))*100,\n",
    "float(len(tracks_8[tracks_8[\"popularity\"]>75]) / float(len(tracks_8)))*100,\n",
    "float(len(tracks_9[tracks_9[\"popularity\"]>75]) / float(len(tracks_9)))*100,\n",
    "float(len(tracks_10[tracks_10[\"popularity\"]>75]) / float(len(tracks_10)))*100]]"
   ]
  },
  {
   "cell_type": "code",
   "execution_count": 62,
   "id": "c3766c7a",
   "metadata": {},
   "outputs": [],
   "source": [
    "# Using the sample number as X\n",
    "\n",
    "X=range(0,10)"
   ]
  },
  {
   "cell_type": "code",
   "execution_count": 63,
   "id": "f3c589b4",
   "metadata": {},
   "outputs": [
    {
     "data": {
      "image/png": "[encoded data removed]",
      "text/plain": [
       "<Figure size 1400x600 with 1 Axes>"
      ]
     },
     "metadata": {},
     "output_type": "display_data"
    }
   ],
   "source": [
    "#Ploting the %'s of the thresholds\n",
    "\n",
    "plt.figure(figsize=(14,6))\n",
    "plt.xlabel('Sample Number')\n",
    "plt.ylabel('%')\n",
    "plt.plot(X,y[0],label = 'Popularity over 25')\n",
    "plt.plot(X,y[1],label = 'Popularity over 50')\n",
    "plt.plot(X,y[2],label = 'Popularity over 75')\n",
    "plt.legend()\n",
    "plt.show()"
   ]
  },
  {
   "cell_type": "code",
   "execution_count": 66,
   "id": "9334f4d4",
   "metadata": {},
   "outputs": [
    {
     "data": {
      "text/html": [
       "<div>\n",
       "<style scoped>\n",
       "    .dataframe tbody tr th:only-of-type {\n",
       "        vertical-align: middle;\n",
       "    }\n",
       "\n",
       "    .dataframe tbody tr th {\n",
       "        vertical-align: top;\n",
       "    }\n",
       "\n",
       "    .dataframe thead th {\n",
       "        text-align: right;\n",
       "    }\n",
       "</style>\n",
       "<table border=\"1\" class=\"dataframe\">\n",
       "  <thead>\n",
       "    <tr style=\"text-align: right;\">\n",
       "      <th></th>\n",
       "      <th>id</th>\n",
       "      <th>name</th>\n",
       "      <th>popularity</th>\n",
       "      <th>duration_ms</th>\n",
       "      <th>explicit</th>\n",
       "      <th>artists</th>\n",
       "      <th>id_artists</th>\n",
       "      <th>release_date</th>\n",
       "      <th>danceability</th>\n",
       "      <th>energy</th>\n",
       "      <th>...</th>\n",
       "      <th>loudness</th>\n",
       "      <th>mode</th>\n",
       "      <th>speechiness</th>\n",
       "      <th>acousticness</th>\n",
       "      <th>instrumentalness</th>\n",
       "      <th>liveness</th>\n",
       "      <th>valence</th>\n",
       "      <th>tempo</th>\n",
       "      <th>time_signature</th>\n",
       "      <th>release_year</th>\n",
       "    </tr>\n",
       "  </thead>\n",
       "  <tbody>\n",
       "    <tr>\n",
       "      <th>443371</th>\n",
       "      <td>4TH73NbUaMETiYeKVor3Hi</td>\n",
       "      <td>Video Games</td>\n",
       "      <td>52</td>\n",
       "      <td>284500</td>\n",
       "      <td>0</td>\n",
       "      <td>['Lana Del Rey']</td>\n",
       "      <td>['00FQb4jTyendYWaN8pK0wa']</td>\n",
       "      <td>2011-10-16</td>\n",
       "      <td>0.336</td>\n",
       "      <td>0.298</td>\n",
       "      <td>...</td>\n",
       "      <td>-8.547</td>\n",
       "      <td>0</td>\n",
       "      <td>0.0324</td>\n",
       "      <td>0.791</td>\n",
       "      <td>0.000003</td>\n",
       "      <td>0.0858</td>\n",
       "      <td>0.203</td>\n",
       "      <td>123.856</td>\n",
       "      <td>4</td>\n",
       "      <td>2011</td>\n",
       "    </tr>\n",
       "  </tbody>\n",
       "</table>\n",
       "<p>1 rows × 21 columns</p>\n",
       "</div>"
      ],
      "text/plain": [
       "                            id         name  popularity  duration_ms  \\\n",
       "443371  4TH73NbUaMETiYeKVor3Hi  Video Games          52       284500   \n",
       "\n",
       "        explicit           artists                  id_artists release_date  \\\n",
       "443371         0  ['Lana Del Rey']  ['00FQb4jTyendYWaN8pK0wa']   2011-10-16   \n",
       "\n",
       "        danceability  energy  ...  loudness  mode  speechiness  acousticness  \\\n",
       "443371         0.336   0.298  ...    -8.547     0       0.0324         0.791   \n",
       "\n",
       "        instrumentalness  liveness  valence    tempo  time_signature  \\\n",
       "443371          0.000003    0.0858    0.203  123.856               4   \n",
       "\n",
       "        release_year  \n",
       "443371          2011  \n",
       "\n",
       "[1 rows x 21 columns]"
      ]
     },
     "execution_count": 66,
     "metadata": {},
     "output_type": "execute_result"
    }
   ],
   "source": [
    "#Checking the year of the last data point of the 8th sample\n",
    "\n",
    "tracks_8.tail(1)"
   ]
  },
  {
   "cell_type": "markdown",
   "id": "14d49a30",
   "metadata": {},
   "source": [
    "## Analysing popularity over last 10 years"
   ]
  },
  {
   "cell_type": "code",
   "execution_count": 26,
   "id": "36fec32e",
   "metadata": {},
   "outputs": [],
   "source": [
    "#Slicing the data for the last 10 years (2011-2021)\n",
    "\n",
    "tracks_2021=tracks[tracks['release_year']==2021]\n",
    "tracks_2020=tracks[tracks['release_year']==2020]\n",
    "tracks_2019=tracks[tracks['release_year']==2019]\n",
    "tracks_2018=tracks[tracks['release_year']==2018]\n",
    "tracks_2017=tracks[tracks['release_year']==2017]\n",
    "tracks_2016=tracks[tracks['release_year']==2016]\n",
    "tracks_2015=tracks[tracks['release_year']==2015]\n",
    "tracks_2014=tracks[tracks['release_year']==2014]\n",
    "tracks_2013=tracks[tracks['release_year']==2013]\n",
    "tracks_2012=tracks[tracks['release_year']==2012]\n",
    "tracks_2011=tracks[tracks['release_year']==2011]"
   ]
  },
  {
   "cell_type": "code",
   "execution_count": 67,
   "id": "7fc5ccd0",
   "metadata": {},
   "outputs": [],
   "source": [
    "#Listing the %'s of the different thresholds of the 2011-2021 data points (over 25,50, 75 popularity)\n",
    "\n",
    "y_years=[[float(len(tracks_2021[tracks_2021['popularity']>75]) / float(len(tracks_2021)))*100,\n",
    "          float(len(tracks_2020[tracks_2020['popularity']>75]) / float(len(tracks_2020)))*100,\n",
    "          float(len(tracks_2019[tracks_2019['popularity']>75]) / float(len(tracks_2019)))*100,\n",
    "          float(len(tracks_2018[tracks_2018['popularity']>75]) / float(len(tracks_2018)))*100,\n",
    "          float(len(tracks_2017[tracks_2017['popularity']>75]) / float(len(tracks_2017)))*100,\n",
    "          float(len(tracks_2016[tracks_2016['popularity']>75]) / float(len(tracks_2016)))*100,\n",
    "          float(len(tracks_2015[tracks_2015['popularity']>75]) / float(len(tracks_2015)))*100,\n",
    "          float(len(tracks_2014[tracks_2014['popularity']>75]) / float(len(tracks_2014)))*100,\n",
    "          float(len(tracks_2013[tracks_2013['popularity']>75]) / float(len(tracks_2013)))*100,\n",
    "          float(len(tracks_2012[tracks_2012['popularity']>75]) / float(len(tracks_2012)))*100,\n",
    "          float(len(tracks_2011[tracks_2011['popularity']>75]) / float(len(tracks_2011)))*100],\n",
    "         [float(len(tracks_2021[tracks_2021['popularity']>50]) / float(len(tracks_2021)))*100,\n",
    "          float(len(tracks_2020[tracks_2020['popularity']>50]) / float(len(tracks_2020)))*100,\n",
    "          float(len(tracks_2019[tracks_2019['popularity']>50]) / float(len(tracks_2019)))*100,\n",
    "          float(len(tracks_2018[tracks_2018['popularity']>50]) / float(len(tracks_2018)))*100,\n",
    "          float(len(tracks_2017[tracks_2017['popularity']>50]) / float(len(tracks_2017)))*100,\n",
    "          float(len(tracks_2016[tracks_2016['popularity']>50]) / float(len(tracks_2016)))*100,\n",
    "          float(len(tracks_2015[tracks_2015['popularity']>50]) / float(len(tracks_2015)))*100,\n",
    "          float(len(tracks_2014[tracks_2014['popularity']>50]) / float(len(tracks_2014)))*100,\n",
    "          float(len(tracks_2013[tracks_2013['popularity']>50]) / float(len(tracks_2013)))*100,\n",
    "          float(len(tracks_2012[tracks_2012['popularity']>50]) / float(len(tracks_2012)))*100,\n",
    "          float(len(tracks_2011[tracks_2011['popularity']>50]) / float(len(tracks_2011)))*100],\n",
    "         [float(len(tracks_2021[tracks_2021['popularity']>25]) / float(len(tracks_2021)))*100,\n",
    "         float(len(tracks_2020[tracks_2020['popularity']>25]) / float(len(tracks_2020)))*100,\n",
    "         float(len(tracks_2019[tracks_2019['popularity']>25]) / float(len(tracks_2019)))*100,\n",
    "         float(len(tracks_2018[tracks_2018['popularity']>25]) / float(len(tracks_2018)))*100,\n",
    "         float(len(tracks_2017[tracks_2017['popularity']>25]) / float(len(tracks_2017)))*100,\n",
    "         float(len(tracks_2016[tracks_2016['popularity']>25]) / float(len(tracks_2016)))*100,\n",
    "         float(len(tracks_2015[tracks_2015['popularity']>25]) / float(len(tracks_2015)))*100,\n",
    "         float(len(tracks_2014[tracks_2014['popularity']>25]) / float(len(tracks_2014)))*100,\n",
    "         float(len(tracks_2013[tracks_2013['popularity']>25]) / float(len(tracks_2013)))*100,\n",
    "         float(len(tracks_2012[tracks_2012['popularity']>25]) / float(len(tracks_2012)))*100,\n",
    "         float(len(tracks_2011[tracks_2011['popularity']>25]) / float(len(tracks_2011)))*100]]"
   ]
  },
  {
   "cell_type": "code",
   "execution_count": 36,
   "id": "53beaa2b",
   "metadata": {},
   "outputs": [],
   "source": [
    "X_years=[2021,2020,2019,2018,2017,2016,2015,2014,2013,2012,2011]"
   ]
  },
  {
   "cell_type": "code",
   "execution_count": 68,
   "id": "ab83dc95",
   "metadata": {},
   "outputs": [
    {
     "data": {
      "image/png": "[encoded data removed]",
      "text/plain": [
       "<Figure size 1400x800 with 1 Axes>"
      ]
     },
     "metadata": {},
     "output_type": "display_data"
    }
   ],
   "source": [
    "plt.figure(figsize=(14,8))\n",
    "plt.xlabel('Track year of release')\n",
    "plt.ylabel('%')\n",
    "plt.plot(X_years,y_years[2],label = 'Popularity over 25')\n",
    "plt.plot(X_years,y_years[1],label = 'Popularity over 50')\n",
    "plt.plot(X_years,y_years[0],label = 'Popularity over 75')\n",
    "plt.legend()\n",
    "plt.show()"
   ]
  },
  {
   "cell_type": "code",
   "execution_count": 56,
   "id": "74e64958",
   "metadata": {},
   "outputs": [],
   "source": [
    "popular_count=[len(tracks_2021[tracks_2021['popularity']>75])/ float(len(tracks_2021))*100,\n",
    "len(tracks_2020[tracks_2020['popularity']>75])/ float(len(tracks_2021))*100,\n",
    "len(tracks_2019[tracks_2019['popularity']>75])/ float(len(tracks_2021))*100,\n",
    "len(tracks_2018[tracks_2018['popularity']>75])/ float(len(tracks_2021))*100,\n",
    "len(tracks_2017[tracks_2017['popularity']>75])/ float(len(tracks_2021))*100,\n",
    "len(tracks_2016[tracks_2016['popularity']>75])/ float(len(tracks_2021))*100,\n",
    "len(tracks_2015[tracks_2015['popularity']>75])/ float(len(tracks_2021))*100,\n",
    "len(tracks_2014[tracks_2014['popularity']>75])/ float(len(tracks_2021))*100,\n",
    "len(tracks_2013[tracks_2013['popularity']>75])/ float(len(tracks_2021))*100,\n",
    "len(tracks_2012[tracks_2012['popularity']>75])/ float(len(tracks_2021))*100,\n",
    "len(tracks_2011[tracks_2011['popularity']>75])/ float(len(tracks_2021))*100]"
   ]
  },
  {
   "cell_type": "code",
   "execution_count": 69,
   "id": "4ec34e21",
   "metadata": {},
   "outputs": [
    {
     "data": {
      "image/png": "[encoded data removed]",
      "text/plain": [
       "<Figure size 1400x800 with 1 Axes>"
      ]
     },
     "metadata": {},
     "output_type": "display_data"
    }
   ],
   "source": [
    "plt.figure(figsize=(14,8))\n",
    "plt.xlabel('Track year of release')\n",
    "plt.ylabel('Number of tracks (%)')\n",
    "plt.bar(X_years,height=popular_count)\n",
    "plt.show()"
   ]
  }
 ],
 "metadata": {
  "kernelspec": {
   "display_name": "Python 3 (ipykernel)",
   "language": "python",
   "name": "python3"
  },
  "language_info": {
   "codemirror_mode": {
    "name": "ipython",
    "version": 3
   },
   "file_extension": ".py",
   "mimetype": "text/x-python",
   "name": "python",
   "nbconvert_exporter": "python",
   "pygments_lexer": "ipython3",
   "version": "3.10.6"
  },
  "toc": {
   "base_numbering": 1,
   "nav_menu": {},
   "number_sections": true,
   "sideBar": true,
   "skip_h1_title": false,
   "title_cell": "Table of Contents",
   "title_sidebar": "Contents",
   "toc_cell": false,
   "toc_position": {},
   "toc_section_display": true,
   "toc_window_display": false
  },
  "varInspector": {
   "cols": {
    "lenName": 16,
    "lenType": 16,
    "lenVar": 40
   },
   "kernels_config": {
    "python": {
     "delete_cmd_postfix": "",
     "delete_cmd_prefix": "del ",
     "library": "var_list.py",
     "varRefreshCmd": "print(var_dic_list())"
    },
    "r": {
     "delete_cmd_postfix": ") ",
     "delete_cmd_prefix": "rm(",
     "library": "var_list.r",
     "varRefreshCmd": "cat(var_dic_list()) "
    }
   },
   "types_to_exclude": [
    "module",
    "function",
    "builtin_function_or_method",
    "instance",
    "_Feature"
   ],
   "window_display": false
  }
 },
 "nbformat": 4,
 "nbformat_minor": 5
}
